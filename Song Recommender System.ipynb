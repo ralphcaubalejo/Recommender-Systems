{
 "cells": [
  {
   "cell_type": "markdown",
   "metadata": {},
   "source": [
    "\n",
    "<div style=\"background-color: black; padding-top: 30px;\n",
    "  padding-right: 30px;\n",
    "  padding-bottom: 20px;\n",
    "  padding-left: 30px; width: 100%; display: flex\">\n",
    "\n",
    "\n",
    "<div style=\"background-color: black; padding-top: 30px;\n",
    "  padding-right: 1px;\n",
    "  padding-bottom: 1px;\n",
    "  padding-left: 1px; width: 100%\">\n",
    "\n",
    "\n",
    "<p><font color=#f1f1f1 style=\"font-family:Impact Regular\" size=70>    Next Song Syndrome:</font></p>\n",
    "\n",
    "\n",
    "<p><font color=#f1f1f1 style=\"font-family:Impact Regular\" size=5> Creating a Next Song Recommender System </font></p></span>\n",
    "\n",
    "\n",
    "</div>\n",
    "</div>\n",
    "\n",
    "\n",
    "<div style=\"background-color: #488f31; padding-top: 20px;\n",
    "  padding-right: 15px;\n",
    "  padding-bottom: 20px;\n",
    "  padding-left: 15px\">\n",
    "</div>\n"
   ]
  },
  {
   "cell_type": "markdown",
   "metadata": {},
   "source": [
    "Packages Included"
   ]
  },
  {
   "cell_type": "code",
   "execution_count": 45,
   "metadata": {
    "ExecuteTime": {
     "end_time": "2020-11-01T16:50:12.011714Z",
     "start_time": "2020-11-01T16:50:12.004581Z"
    }
   },
   "outputs": [
    {
     "data": {
      "text/html": [
       "<script>code_show=true;function code_toggle() {if (code_show)\n",
       "{$('div.input').hide();} else {$('div.input').show();}\n",
       "code_show = !code_show}$( document ).ready(code_toggle);\n",
       "</script><form action=\"javascript:code_toggle()\">\n",
       "<input type=\"submit\" value=\"Click here to toggle on/off the raw code.\"></form>"
      ],
      "text/plain": [
       "<IPython.core.display.HTML object>"
      ]
     },
     "execution_count": 45,
     "metadata": {},
     "output_type": "execute_result"
    }
   ],
   "source": [
    "from IPython.display import HTML\n",
    "HTML('''<script>code_show=true;function code_toggle() {if (code_show)\n",
    "{$('div.input').hide();} else {$('div.input').show();}\n",
    "code_show = !code_show}$( document ).ready(code_toggle);\n",
    "</script><form action=\"javascript:code_toggle()\">\n",
    "<input type=\"submit\" value=\"Click here to toggle on/off the raw code.\"></form>''')"
   ]
  },
  {
   "cell_type": "code",
   "execution_count": 1,
   "metadata": {
    "ExecuteTime": {
     "end_time": "2020-11-01T16:28:23.031007Z",
     "start_time": "2020-11-01T16:28:20.965205Z"
    },
    "colab": {},
    "colab_type": "code",
    "id": "a98Bx0kdRMPm"
   },
   "outputs": [],
   "source": [
    "import matplotlib.pyplot as plt\n",
    "import seaborn as sns\n",
    "import numpy as np\n",
    "import pandas as pd\n",
    "from scipy.spatial.distance import cosine\n",
    "from tqdm import tqdm\n",
    "import warnings\n",
    "warnings.filterwarnings('ignore', category=FutureWarning)\n",
    "warnings.filterwarnings('ignore', category=RuntimeWarning)\n",
    "%matplotlib inline"
   ]
  },
  {
   "cell_type": "markdown",
   "metadata": {
    "ExecuteTime": {
     "end_time": "2020-06-21T16:02:16.029525Z",
     "start_time": "2020-06-21T16:02:16.022506Z"
    },
    "colab_type": "text",
    "id": "fsMd4u-VRMPp"
   },
   "source": [
    "<div><span style=\"background-color: #488f31; padding-top: 100px; padding-right: 20px; padding-bottom: 50px; padding-left: 20px; color: white; font-size: 20px; font-weight: bold\">EXECUTIVE SUMMARY</span></div>"
   ]
  },
  {
   "cell_type": "markdown",
   "metadata": {
    "colab_type": "text",
    "id": "qAzveY5cAtXB"
   },
   "source": [
    "<p style=\"text-align: justify\">awdawdawdawdad</p> "
   ]
  },
  {
   "cell_type": "markdown",
   "metadata": {
    "ExecuteTime": {
     "end_time": "2020-06-21T16:02:16.029525Z",
     "start_time": "2020-06-21T16:02:16.022506Z"
    },
    "colab_type": "text",
    "id": "kFUQuALyRMPr"
   },
   "source": [
    "<div><span style=\"background-color: #488f31; padding-top: 100px; padding-right: 20px; padding-bottom: 50px; padding-left: 20px; color: white; font-size: 20px; font-weight: bold\">INTRODUCTION</span></div>"
   ]
  },
  {
   "cell_type": "markdown",
   "metadata": {
    "colab_type": "text",
    "id": "TuEW2-vGCwz5"
   },
   "source": [
    "<p style=\"text-align: justify\">adawdawdadwawdad.</p>"
   ]
  },
  {
   "cell_type": "markdown",
   "metadata": {
    "ExecuteTime": {
     "end_time": "2020-06-21T16:02:16.029525Z",
     "start_time": "2020-06-21T16:02:16.022506Z"
    },
    "colab_type": "text",
    "id": "GfLQlSndRMPo"
   },
   "source": [
    "<div><span style=\"background-color: #488f31; padding-top: 100px; padding-right: 20px; padding-bottom: 50px; padding-left: 20px; color: white; font-size: 20px; font-weight: bold\">PROBLEM STATEMENT</span></div>"
   ]
  },
  {
   "cell_type": "markdown",
   "metadata": {
    "colab_type": "text",
    "id": "FMfVNzM4RMPp"
   },
   "source": [
    "  ###        adawdawdawd"
   ]
  },
  {
   "cell_type": "markdown",
   "metadata": {},
   "source": [
    "<div><span style=\"background-color: #488f31; padding-top: 100px; padding-right: 20px; padding-bottom: 50px; padding-left: 20px; color: white; font-size: 20px; font-weight: bold\">BUSINESS VALUE</span></div>"
   ]
  },
  {
   "cell_type": "markdown",
   "metadata": {
    "colab_type": "text",
    "id": "CHCOIYyR_w8a"
   },
   "source": [
    "\n",
    "- **awdawdawd**: awdawdawdaw"
   ]
  },
  {
   "cell_type": "markdown",
   "metadata": {
    "ExecuteTime": {
     "end_time": "2020-06-21T16:02:16.029525Z",
     "start_time": "2020-06-21T16:02:16.022506Z"
    },
    "colab_type": "text",
    "id": "2UsNdIW0RMPv"
   },
   "source": [
    "<div><span style=\"background-color: #488f31; padding-top: 100px; padding-right: 20px; padding-bottom: 50px; padding-left: 20px; color: white; font-size: 20px; font-weight: bold\">METHODOLOGY</span></div>"
   ]
  },
  {
   "cell_type": "markdown",
   "metadata": {
    "colab_type": "text",
    "id": "Gx0qUH-VRMPw"
   },
   "source": [
    "<p style=\"text-align: justify\">To properly address the problem, the researchers will be needing viable dataset. The Researcher will follow the general work flow defined below to arrive at a conclusion and recommendation.</p>"
   ]
  },
  {
   "attachments": {
    "image.png": {
     "image/png": "[encoded data removed]"
    }
   },
   "cell_type": "markdown",
   "metadata": {
    "colab_type": "text",
    "id": "UMquzYUFNnrU"
   },
   "source": [
    "*Figure 1: A general work flow of the study*\n",
    "![image.png](attachment:image.png)"
   ]
  },
  {
   "cell_type": "markdown",
   "metadata": {
    "colab_type": "text",
    "id": "Zw4EIK_oNteL"
   },
   "source": [
    "### OVERVIEW OF THE METHODOLOGY\n",
    "Each step will be discussed in detail in the following sections. To give a general overview of the methodology, a brief description for each step is described below:\n",
    "\n",
    "#### 1. Data Gathering\n",
    "\n",
    "The Set of Images was scraped over the internet with different URLs of Porn Images and Safe Images.\n",
    "\n",
    "The Scraping Process are as follows:\n",
    "\n",
    "1. Collect List of URLS of Porn Images and Safe Images, sample URL list can be seen on different github pages and public dataset.\n",
    "2. For Loop over the URLS \n",
    "3. Save the File on a Specific filepath\n",
    "\n",
    "**Note!:** \n",
    "\n",
    "There is a possibility that the images will not be able to be scraped properly due to slow internet connection. It is recommended that before processing the images, the images should be checked manually individually which was done by the researchers. Also, it is recommended that the images should be checked intensively since there pictures and images that are tagged as porn but not necessarily porn. Including this images will just make the model confuse.\n",
    "\n",
    "\n",
    "#### 2. Data Preprocessing:\n",
    "\n",
    "The gathered data was cleaned and formatted prior analysis. \n",
    "\n",
    "There two possible ways in preprocessing to be able to create a machine learning model for this problems:\n",
    "    \n",
    "**1st Technique, Use Flattened Images in a CSV File**\n",
    "\n",
    "    The steps are as follows:\n",
    "\n",
    "        1. Opening the Images using the Skimage Function\n",
    "        2. Natural Sorting the Image Names for Easier Checking\n",
    "        3. For Loop over the Images\n",
    "        4. Set a Dummy Numpy Float Variable with a Float32 Data type\n",
    "        5. Resize the Image to a specified shape size for uniformity\n",
    "        6. Flatten the Image\n",
    "        7. Copy to the Dummy Numpy Variable\n",
    "        8. Save to a CSV File\n",
    "        9. Save into S3 Bucket for Easier Analysis over Different Users\n",
    "\n",
    "    In accordance to the need project, the CSV Files amounts to almost 55GB.\n",
    "    \n",
    "    \n",
    "The CSV Files can be accessed through this S3 Link: \n",
    "\n",
    "           s3://bdccproject/nsfw_dataset/\n",
    "\n",
    "**2nd Technique, Used the Image Directly using Dask Image**\n",
    "\n",
    "        1. Scraped the Web Using AWS\n",
    "        2. Save to Local File in an AWS Instance\n",
    "        3. Save to an S3 Bucket\n",
    "\n",
    "    In accordance to the need project, the CSV Files amounts to almost 60GB.\n",
    "    \n",
    "The Images can be accessed through this S3 Link: \n",
    "\n",
    "            s3://bdccproject/images/\n",
    "\n",
    "There are certain advantages for each technique which will be further discussed below.\n",
    "  \n",
    "#### 3. Machine Learning Phase\n",
    "\n",
    "The processed data will be parsed using the Dask Library, a python library that can be used for Big Data.\n",
    "\n",
    "The following technique was done to read the files:\n",
    "\n",
    "* Using Dask Dataframe in Reading the CSV Files\n",
    "\n",
    "* Using Dask Image/Dask Array in Reading the Image Files\n",
    "\n",
    "After Reading the Needed Files, the items was split in to Training and Test Set and was passed through different Machine Learning Models below:\n",
    "\n",
    "* Logistic Regression for Baseline Model\n",
    "* Random Forest Classifier (Basic)\n",
    "* Random Forest Classifier (Higher Depth-Fine Tuning)\n",
    "\n",
    "We used different Configuration of AWS EC2 Instances to be able to parse through the Models and the Data. This will be discussed below.\n",
    "\n",
    "#### 4. Interpretation of Results\n",
    "\n",
    "* Analyze the results of the collaborative filtering by comparing the results to each model created.\n"
   ]
  },
  {
   "cell_type": "markdown",
   "metadata": {
    "ExecuteTime": {
     "end_time": "2020-06-21T16:02:16.029525Z",
     "start_time": "2020-06-21T16:02:16.022506Z"
    },
    "colab_type": "text",
    "id": "O0rZ8ZFkRMPw"
   },
   "source": [
    "<div><span style=\"background-color: #488f31; padding-top: 100px; padding-right: 20px; padding-bottom: 50px; padding-left: 20px; color: white; font-size: 20px; font-weight: bold\">DATA GATHERING</span></div>"
   ]
  },
  {
   "cell_type": "markdown",
   "metadata": {
    "colab_type": "text",
    "id": "sdkIfcUrRMPw"
   },
   "source": [
    "<p style=\"text-align: justify\">There are various sources of information for a Recommender System that models a next song algorithm. For this research, we will be using a dataset which contain 11.6 million music listening events that was scraped on Twitter. It has almost 139,000 Users and 346,000 Tracks/Songs. There are various itemset content features and user context features that comes with the data.\n",
    "\n",
    "For this research, we will be focusing on the sentiment score that comes with the data. To describe the sentiment, each track_id that was chosen by the user will have a unique hashtag accompanying to it (example: \"kiss92\"). Each of this hashtag equates to a sentiment score from the data. This will serve as the rating of the track_id chosen by the user. In some way, the user has already tagged the track_id with a specific score by using different hashtags on its. In this way, we can actually recommend songs that is purely based on how the user really feels about each songs. \n",
    "\n",
    "To minimize the research, we will be only using the train file, represented by the filepath below:\n",
    "* '/mnt/data/public/nowplaying-rs/Train-Test Splits/Context/train.csv' </p>\n"
   ]
  },
  {
   "cell_type": "markdown",
   "metadata": {
    "ExecuteTime": {
     "end_time": "2020-06-21T16:02:16.029525Z",
     "start_time": "2020-06-21T16:02:16.022506Z"
    },
    "colab_type": "text",
    "id": "_3Hu2OVKRMP8"
   },
   "source": [
    "<div><span style=\"background-color: #488f31; padding-top: 100px; padding-right: 20px; padding-bottom: 50px; padding-left: 20px; color: white; font-size: 20px; font-weight: bold\">DATA DESCRIPTION</span></div>"
   ]
  },
  {
   "cell_type": "markdown",
   "metadata": {
    "colab_type": "text",
    "id": "AbB2MwL8RMP9"
   },
   "source": [
    "<p style=\"text-align: justify\">The Dataset contains the following columns and its specific description that is stored in a csv file. For simplicity of the algorithm, we will be reading through a dataframe.</p>\n",
    "\n",
    "**Nowplaying-RS-Train File**"
   ]
  },
  {
   "cell_type": "markdown",
   "metadata": {
    "colab_type": "text",
    "id": "iJT8oUiVFaMR"
   },
   "source": [
    "| Column Name \t| Description \t|\n",
    "|-:\t|:-:\t|\n",
    "| User ID \t| Unique user ID \t|\n",
    "| Track ID \t| Unique track ID \t|\n",
    "| Hashtag \t| Hashtags contained in Listening Event; categorizes and contextualizes a tweet by a keyword \t|\n",
    "| Sentiment Score \t| Sentiment score extracted from hashtags contained in Listening Event(ranges from 0 (negative) to 1 (positive)) \t|"
   ]
  },
  {
   "cell_type": "code",
   "execution_count": 2,
   "metadata": {
    "ExecuteTime": {
     "end_time": "2020-11-01T16:28:30.579780Z",
     "start_time": "2020-11-01T16:28:29.797560Z"
    },
    "colab": {},
    "colab_type": "code",
    "id": "AxZMiuyIRMP9",
    "outputId": "66d6c917-3c4b-4c24-a280-883cb208ba55"
   },
   "outputs": [
    {
     "data": {
      "text/html": [
       "<div>\n",
       "<style scoped>\n",
       "    .dataframe tbody tr th:only-of-type {\n",
       "        vertical-align: middle;\n",
       "    }\n",
       "\n",
       "    .dataframe tbody tr th {\n",
       "        vertical-align: top;\n",
       "    }\n",
       "\n",
       "    .dataframe thead th {\n",
       "        text-align: right;\n",
       "    }\n",
       "</style>\n",
       "<table border=\"1\" class=\"dataframe\">\n",
       "  <thead>\n",
       "    <tr style=\"text-align: right;\">\n",
       "      <th></th>\n",
       "      <th>user_id</th>\n",
       "      <th>track_id</th>\n",
       "      <th>hashtag</th>\n",
       "      <th>score</th>\n",
       "    </tr>\n",
       "  </thead>\n",
       "  <tbody>\n",
       "    <tr>\n",
       "      <th>0</th>\n",
       "      <td>823214346</td>\n",
       "      <td>b129f3e0a0bdc1e61c57ce994f9d2932</td>\n",
       "      <td>kiss92</td>\n",
       "      <td>0.8</td>\n",
       "    </tr>\n",
       "    <tr>\n",
       "      <th>1</th>\n",
       "      <td>823214346</td>\n",
       "      <td>64b30f6ac1acecb7cef9dc890e1c3ea7</td>\n",
       "      <td>kiss92</td>\n",
       "      <td>0.8</td>\n",
       "    </tr>\n",
       "    <tr>\n",
       "      <th>2</th>\n",
       "      <td>823214346</td>\n",
       "      <td>cc1a46ee0446538ecf6b65db01c30cd8</td>\n",
       "      <td>kiss92</td>\n",
       "      <td>0.8</td>\n",
       "    </tr>\n",
       "    <tr>\n",
       "      <th>3</th>\n",
       "      <td>823214346</td>\n",
       "      <td>dbbd8525c1bc48cc791bfe618b74bac6</td>\n",
       "      <td>kiss92</td>\n",
       "      <td>0.8</td>\n",
       "    </tr>\n",
       "    <tr>\n",
       "      <th>4</th>\n",
       "      <td>823214346</td>\n",
       "      <td>dbdbb866939c1ab1dfd0d5cfac740eaa</td>\n",
       "      <td>kiss92</td>\n",
       "      <td>0.8</td>\n",
       "    </tr>\n",
       "  </tbody>\n",
       "</table>\n",
       "</div>"
      ],
      "text/plain": [
       "     user_id                          track_id hashtag  score\n",
       "0  823214346  b129f3e0a0bdc1e61c57ce994f9d2932  kiss92    0.8\n",
       "1  823214346  64b30f6ac1acecb7cef9dc890e1c3ea7  kiss92    0.8\n",
       "2  823214346  cc1a46ee0446538ecf6b65db01c30cd8  kiss92    0.8\n",
       "3  823214346  dbbd8525c1bc48cc791bfe618b74bac6  kiss92    0.8\n",
       "4  823214346  dbdbb866939c1ab1dfd0d5cfac740eaa  kiss92    0.8"
      ]
     },
     "execution_count": 2,
     "metadata": {},
     "output_type": "execute_result"
    }
   ],
   "source": [
    "filepath ='/mnt/data/public/nowplaying-rs/Train-Test Splits/Context/train.csv'\n",
    "filepath = 'file.csv'\n",
    "user_scores = pd.read_csv(\n",
    "    filepath)[['user_id', 'track_id', 'hashtag', 'score']].drop_duplicates()\n",
    "user_scores.head(5)"
   ]
  },
  {
   "cell_type": "markdown",
   "metadata": {},
   "source": [
    "#### Dataframe Shape"
   ]
  },
  {
   "cell_type": "code",
   "execution_count": 3,
   "metadata": {
    "ExecuteTime": {
     "end_time": "2020-11-01T16:28:30.585671Z",
     "start_time": "2020-11-01T16:28:30.582224Z"
    }
   },
   "outputs": [
    {
     "data": {
      "text/plain": [
       "(43940, 4)"
      ]
     },
     "execution_count": 3,
     "metadata": {},
     "output_type": "execute_result"
    }
   ],
   "source": [
    "user_scores.shape"
   ]
  },
  {
   "cell_type": "markdown",
   "metadata": {},
   "source": [
    "<div><span style=\"background-color: #488f31; padding-top: 100px; padding-right: 20px; padding-bottom: 50px; padding-left: 20px; color: white; font-size: 20px; font-weight: bold\">DATA PREPROCESSING</span></div>"
   ]
  },
  {
   "cell_type": "markdown",
   "metadata": {},
   "source": [
    "From the results of the dataframe above, we can see that for a specific user_id, there is a possibility of having many track_id which the user listened to. This is very important since we can use this chosen songs of the user to check which similar users also liked the same songs as the user. In this way, we can determined new songs/track_id to recommend to the chosen user. We can also see that the dataframe contains almost 44,000 sentiment rated track_id which proves to be very useful for the recommender system."
   ]
  },
  {
   "cell_type": "markdown",
   "metadata": {},
   "source": [
    "**Let us check for multiple hashtags for a unique track_id!**"
   ]
  },
  {
   "cell_type": "code",
   "execution_count": 4,
   "metadata": {
    "ExecuteTime": {
     "end_time": "2020-11-01T16:28:31.846408Z",
     "start_time": "2020-11-01T16:28:31.842393Z"
    }
   },
   "outputs": [],
   "source": [
    "# sample track_id\n",
    "track_1 = ['212913']"
   ]
  },
  {
   "cell_type": "code",
   "execution_count": 5,
   "metadata": {
    "ExecuteTime": {
     "end_time": "2020-11-01T16:28:32.262654Z",
     "start_time": "2020-11-01T16:28:32.244688Z"
    }
   },
   "outputs": [
    {
     "data": {
      "text/html": [
       "<div>\n",
       "<style scoped>\n",
       "    .dataframe tbody tr th:only-of-type {\n",
       "        vertical-align: middle;\n",
       "    }\n",
       "\n",
       "    .dataframe tbody tr th {\n",
       "        vertical-align: top;\n",
       "    }\n",
       "\n",
       "    .dataframe thead th {\n",
       "        text-align: right;\n",
       "    }\n",
       "</style>\n",
       "<table border=\"1\" class=\"dataframe\">\n",
       "  <thead>\n",
       "    <tr style=\"text-align: right;\">\n",
       "      <th></th>\n",
       "      <th>user_id</th>\n",
       "      <th>track_id</th>\n",
       "      <th>hashtag</th>\n",
       "      <th>score</th>\n",
       "    </tr>\n",
       "  </thead>\n",
       "  <tbody>\n",
       "    <tr>\n",
       "      <th>251100</th>\n",
       "      <td>212913</td>\n",
       "      <td>af5383ec56b92bc6e2fef460747cb50d</td>\n",
       "      <td>chill</td>\n",
       "      <td>0.0</td>\n",
       "    </tr>\n",
       "    <tr>\n",
       "      <th>251102</th>\n",
       "      <td>212913</td>\n",
       "      <td>af5383ec56b92bc6e2fef460747cb50d</td>\n",
       "      <td>dark</td>\n",
       "      <td>0.2</td>\n",
       "    </tr>\n",
       "    <tr>\n",
       "      <th>251103</th>\n",
       "      <td>212913</td>\n",
       "      <td>af5383ec56b92bc6e2fef460747cb50d</td>\n",
       "      <td>classical</td>\n",
       "      <td>1.0</td>\n",
       "    </tr>\n",
       "  </tbody>\n",
       "</table>\n",
       "</div>"
      ],
      "text/plain": [
       "        user_id                          track_id    hashtag  score\n",
       "251100   212913  af5383ec56b92bc6e2fef460747cb50d      chill    0.0\n",
       "251102   212913  af5383ec56b92bc6e2fef460747cb50d       dark    0.2\n",
       "251103   212913  af5383ec56b92bc6e2fef460747cb50d  classical    1.0"
      ]
     },
     "execution_count": 5,
     "metadata": {},
     "output_type": "execute_result"
    }
   ],
   "source": [
    "user_scores[user_scores.user_id.isin(track_1)][:3]"
   ]
  },
  {
   "cell_type": "markdown",
   "metadata": {
    "ExecuteTime": {
     "end_time": "2020-10-31T14:09:30.406376Z",
     "start_time": "2020-10-31T14:09:30.401887Z"
    }
   },
   "source": [
    "We can see from the results above that there are possibilities of having multiple hashtags for a unique track_id for a specific user. This happens since he/she might be feeling different hashtags for the same songs. To properly evaluate this event, we will be getting the average or the mean of the sentiment/hashtag scores for each unique track_id that has many hashtags and sentiment scores. The program and codes below will average all the needed scores and create a new dataframe with the respective values."
   ]
  },
  {
   "cell_type": "markdown",
   "metadata": {
    "ExecuteTime": {
     "end_time": "2020-11-01T16:51:41.539257Z",
     "start_time": "2020-11-01T16:51:41.533726Z"
    }
   },
   "source": [
    "Please see results below:"
   ]
  },
  {
   "cell_type": "code",
   "execution_count": 6,
   "metadata": {
    "ExecuteTime": {
     "end_time": "2020-11-01T16:28:33.528932Z",
     "start_time": "2020-11-01T16:28:33.451732Z"
    }
   },
   "outputs": [
    {
     "data": {
      "text/html": [
       "<div>\n",
       "<style scoped>\n",
       "    .dataframe tbody tr th:only-of-type {\n",
       "        vertical-align: middle;\n",
       "    }\n",
       "\n",
       "    .dataframe tbody tr th {\n",
       "        vertical-align: top;\n",
       "    }\n",
       "\n",
       "    .dataframe thead th {\n",
       "        text-align: right;\n",
       "    }\n",
       "</style>\n",
       "<table border=\"1\" class=\"dataframe\">\n",
       "  <thead>\n",
       "    <tr style=\"text-align: right;\">\n",
       "      <th></th>\n",
       "      <th></th>\n",
       "      <th>score</th>\n",
       "    </tr>\n",
       "    <tr>\n",
       "      <th>user_id</th>\n",
       "      <th>track_id</th>\n",
       "      <th></th>\n",
       "    </tr>\n",
       "  </thead>\n",
       "  <tbody>\n",
       "    <tr>\n",
       "      <th rowspan=\"4\" valign=\"top\">212913</th>\n",
       "      <th>5650d316220c726016a1bc9387c3b18a</th>\n",
       "      <td>0.000000</td>\n",
       "    </tr>\n",
       "    <tr>\n",
       "      <th>af5383ec56b92bc6e2fef460747cb50d</th>\n",
       "      <td>0.400000</td>\n",
       "    </tr>\n",
       "    <tr>\n",
       "      <th>b3f19f29399b6e71bb5cbafdf890d01a</th>\n",
       "      <td>0.000000</td>\n",
       "    </tr>\n",
       "    <tr>\n",
       "      <th>c49d2670c7327779a2abc0f148468ac7</th>\n",
       "      <td>1.000000</td>\n",
       "    </tr>\n",
       "    <tr>\n",
       "      <th>586803</th>\n",
       "      <th>06e99b67c0df1371643b5cb11eae1a13</th>\n",
       "      <td>0.837500</td>\n",
       "    </tr>\n",
       "    <tr>\n",
       "      <th>...</th>\n",
       "      <th>...</th>\n",
       "      <td>...</td>\n",
       "    </tr>\n",
       "    <tr>\n",
       "      <th rowspan=\"4\" valign=\"top\">2827169953</th>\n",
       "      <th>80fe21909bc6bf9a014d4fe94bdef42d</th>\n",
       "      <td>0.746875</td>\n",
       "    </tr>\n",
       "    <tr>\n",
       "      <th>896d021024375f823a38698be26f510f</th>\n",
       "      <td>0.746875</td>\n",
       "    </tr>\n",
       "    <tr>\n",
       "      <th>92b1ea43b32de3bed6661acfa7c8e816</th>\n",
       "      <td>0.746875</td>\n",
       "    </tr>\n",
       "    <tr>\n",
       "      <th>f20e84df022a3d2a0efae5bc77786c87</th>\n",
       "      <td>0.746875</td>\n",
       "    </tr>\n",
       "    <tr>\n",
       "      <th>2830404192</th>\n",
       "      <th>e24b9ccd4b9cbfd115964f65ed945542</th>\n",
       "      <td>0.700000</td>\n",
       "    </tr>\n",
       "  </tbody>\n",
       "</table>\n",
       "<p>36650 rows × 1 columns</p>\n",
       "</div>"
      ],
      "text/plain": [
       "                                                score\n",
       "user_id    track_id                                  \n",
       "212913     5650d316220c726016a1bc9387c3b18a  0.000000\n",
       "           af5383ec56b92bc6e2fef460747cb50d  0.400000\n",
       "           b3f19f29399b6e71bb5cbafdf890d01a  0.000000\n",
       "           c49d2670c7327779a2abc0f148468ac7  1.000000\n",
       "586803     06e99b67c0df1371643b5cb11eae1a13  0.837500\n",
       "...                                               ...\n",
       "2827169953 80fe21909bc6bf9a014d4fe94bdef42d  0.746875\n",
       "           896d021024375f823a38698be26f510f  0.746875\n",
       "           92b1ea43b32de3bed6661acfa7c8e816  0.746875\n",
       "           f20e84df022a3d2a0efae5bc77786c87  0.746875\n",
       "2830404192 e24b9ccd4b9cbfd115964f65ed945542  0.700000\n",
       "\n",
       "[36650 rows x 1 columns]"
      ]
     },
     "execution_count": 6,
     "metadata": {},
     "output_type": "execute_result"
    }
   ],
   "source": [
    "user_score_mean = user_scores.groupby(['user_id', 'track_id']).mean()\n",
    "user_score_mean"
   ]
  },
  {
   "cell_type": "markdown",
   "metadata": {},
   "source": [
    "#### Creating the Final DataFrame"
   ]
  },
  {
   "cell_type": "code",
   "execution_count": 7,
   "metadata": {
    "ExecuteTime": {
     "end_time": "2020-11-01T16:31:14.588836Z",
     "start_time": "2020-11-01T16:28:34.141376Z"
    }
   },
   "outputs": [
    {
     "data": {
      "text/html": [
       "<div>\n",
       "<style scoped>\n",
       "    .dataframe tbody tr th:only-of-type {\n",
       "        vertical-align: middle;\n",
       "    }\n",
       "\n",
       "    .dataframe tbody tr th {\n",
       "        vertical-align: top;\n",
       "    }\n",
       "\n",
       "    .dataframe thead th {\n",
       "        text-align: right;\n",
       "    }\n",
       "</style>\n",
       "<table border=\"1\" class=\"dataframe\">\n",
       "  <thead>\n",
       "    <tr style=\"text-align: right;\">\n",
       "      <th></th>\n",
       "      <th>User</th>\n",
       "      <th>Track_ID</th>\n",
       "      <th>Score</th>\n",
       "    </tr>\n",
       "  </thead>\n",
       "  <tbody>\n",
       "    <tr>\n",
       "      <th>0</th>\n",
       "      <td>212913</td>\n",
       "      <td>5650d316220c726016a1bc9387c3b18a</td>\n",
       "      <td>0.00000</td>\n",
       "    </tr>\n",
       "    <tr>\n",
       "      <th>1</th>\n",
       "      <td>212913</td>\n",
       "      <td>af5383ec56b92bc6e2fef460747cb50d</td>\n",
       "      <td>0.40000</td>\n",
       "    </tr>\n",
       "    <tr>\n",
       "      <th>2</th>\n",
       "      <td>212913</td>\n",
       "      <td>b3f19f29399b6e71bb5cbafdf890d01a</td>\n",
       "      <td>0.00000</td>\n",
       "    </tr>\n",
       "    <tr>\n",
       "      <th>3</th>\n",
       "      <td>212913</td>\n",
       "      <td>c49d2670c7327779a2abc0f148468ac7</td>\n",
       "      <td>1.00000</td>\n",
       "    </tr>\n",
       "    <tr>\n",
       "      <th>4</th>\n",
       "      <td>586803</td>\n",
       "      <td>06e99b67c0df1371643b5cb11eae1a13</td>\n",
       "      <td>0.83750</td>\n",
       "    </tr>\n",
       "    <tr>\n",
       "      <th>5</th>\n",
       "      <td>639743</td>\n",
       "      <td>014e9f12626f78649aaa7226ab62fd1f</td>\n",
       "      <td>0.87500</td>\n",
       "    </tr>\n",
       "    <tr>\n",
       "      <th>6</th>\n",
       "      <td>639743</td>\n",
       "      <td>044fc8e3773032edf71fb1fcb75b8aad</td>\n",
       "      <td>0.87500</td>\n",
       "    </tr>\n",
       "    <tr>\n",
       "      <th>7</th>\n",
       "      <td>639743</td>\n",
       "      <td>0bda79b2dda59822c1f9599a76802644</td>\n",
       "      <td>0.87500</td>\n",
       "    </tr>\n",
       "    <tr>\n",
       "      <th>8</th>\n",
       "      <td>639743</td>\n",
       "      <td>0d6a91a19299200b224942263489bdcc</td>\n",
       "      <td>0.87500</td>\n",
       "    </tr>\n",
       "    <tr>\n",
       "      <th>9</th>\n",
       "      <td>639743</td>\n",
       "      <td>1c9907719cd71f815eb4f667da1ee67b</td>\n",
       "      <td>0.87500</td>\n",
       "    </tr>\n",
       "    <tr>\n",
       "      <th>10</th>\n",
       "      <td>639743</td>\n",
       "      <td>2e8d9093acab32fdb62374579e125c21</td>\n",
       "      <td>0.87500</td>\n",
       "    </tr>\n",
       "    <tr>\n",
       "      <th>11</th>\n",
       "      <td>639743</td>\n",
       "      <td>2f16898cc234470620da38e1fd912be6</td>\n",
       "      <td>0.87500</td>\n",
       "    </tr>\n",
       "    <tr>\n",
       "      <th>12</th>\n",
       "      <td>639743</td>\n",
       "      <td>40f6d454ce59d50fa7deffdc594aca3e</td>\n",
       "      <td>0.87500</td>\n",
       "    </tr>\n",
       "    <tr>\n",
       "      <th>13</th>\n",
       "      <td>639743</td>\n",
       "      <td>4ec07b731bb57fc74ddfaa15bc3f1a1c</td>\n",
       "      <td>0.87500</td>\n",
       "    </tr>\n",
       "    <tr>\n",
       "      <th>14</th>\n",
       "      <td>639743</td>\n",
       "      <td>80fc01725cbc96da7550daed6dd5ec34</td>\n",
       "      <td>0.87500</td>\n",
       "    </tr>\n",
       "    <tr>\n",
       "      <th>15</th>\n",
       "      <td>639743</td>\n",
       "      <td>8c1e4ed70911e677e05552323df0e73a</td>\n",
       "      <td>0.87500</td>\n",
       "    </tr>\n",
       "    <tr>\n",
       "      <th>16</th>\n",
       "      <td>639743</td>\n",
       "      <td>ba14300fb33edbcf93283f1230e917f4</td>\n",
       "      <td>0.87500</td>\n",
       "    </tr>\n",
       "    <tr>\n",
       "      <th>17</th>\n",
       "      <td>805658</td>\n",
       "      <td>0717181645ef641d46022dc3ee137dd0</td>\n",
       "      <td>0.61875</td>\n",
       "    </tr>\n",
       "    <tr>\n",
       "      <th>18</th>\n",
       "      <td>805658</td>\n",
       "      <td>0cfb752e9754ef9424b1dd49f8cfc2d1</td>\n",
       "      <td>0.84750</td>\n",
       "    </tr>\n",
       "    <tr>\n",
       "      <th>19</th>\n",
       "      <td>805658</td>\n",
       "      <td>a649ae28a5f6f1ecefff604f92ee40ae</td>\n",
       "      <td>0.65625</td>\n",
       "    </tr>\n",
       "  </tbody>\n",
       "</table>\n",
       "</div>"
      ],
      "text/plain": [
       "      User                          Track_ID    Score\n",
       "0   212913  5650d316220c726016a1bc9387c3b18a  0.00000\n",
       "1   212913  af5383ec56b92bc6e2fef460747cb50d  0.40000\n",
       "2   212913  b3f19f29399b6e71bb5cbafdf890d01a  0.00000\n",
       "3   212913  c49d2670c7327779a2abc0f148468ac7  1.00000\n",
       "4   586803  06e99b67c0df1371643b5cb11eae1a13  0.83750\n",
       "5   639743  014e9f12626f78649aaa7226ab62fd1f  0.87500\n",
       "6   639743  044fc8e3773032edf71fb1fcb75b8aad  0.87500\n",
       "7   639743  0bda79b2dda59822c1f9599a76802644  0.87500\n",
       "8   639743  0d6a91a19299200b224942263489bdcc  0.87500\n",
       "9   639743  1c9907719cd71f815eb4f667da1ee67b  0.87500\n",
       "10  639743  2e8d9093acab32fdb62374579e125c21  0.87500\n",
       "11  639743  2f16898cc234470620da38e1fd912be6  0.87500\n",
       "12  639743  40f6d454ce59d50fa7deffdc594aca3e  0.87500\n",
       "13  639743  4ec07b731bb57fc74ddfaa15bc3f1a1c  0.87500\n",
       "14  639743  80fc01725cbc96da7550daed6dd5ec34  0.87500\n",
       "15  639743  8c1e4ed70911e677e05552323df0e73a  0.87500\n",
       "16  639743  ba14300fb33edbcf93283f1230e917f4  0.87500\n",
       "17  805658  0717181645ef641d46022dc3ee137dd0  0.61875\n",
       "18  805658  0cfb752e9754ef9424b1dd49f8cfc2d1  0.84750\n",
       "19  805658  a649ae28a5f6f1ecefff604f92ee40ae  0.65625"
      ]
     },
     "execution_count": 7,
     "metadata": {},
     "output_type": "execute_result"
    }
   ],
   "source": [
    "user_final = pd.DataFrame(columns=['User', 'Track_ID', 'Score'])\n",
    "count = 0\n",
    "for x, y in user_score_mean.iterrows():\n",
    "    user_final.loc[count] = [x[0], x[1], y['score']]\n",
    "    count += 1\n",
    "# final dataframe to be used on the recommender models\n",
    "user_final.head(20)"
   ]
  },
  {
   "cell_type": "markdown",
   "metadata": {},
   "source": [
    "Now that we have processed the data, we can proceed with the following parts which are the exploratory data analysis and the recommender system model itself."
   ]
  },
  {
   "cell_type": "markdown",
   "metadata": {
    "ExecuteTime": {
     "end_time": "2020-06-21T16:02:16.029525Z",
     "start_time": "2020-06-21T16:02:16.022506Z"
    },
    "colab_type": "text",
    "id": "IjKnizkBRMQJ"
   },
   "source": [
    "<div><span style=\"background-color: #488f31; padding-top: 100px; padding-right: 20px; padding-bottom: 50px; padding-left: 20px; color: white; font-size: 20px; font-weight: bold\">Preliminary-EDA</span></div>"
   ]
  },
  {
   "cell_type": "markdown",
   "metadata": {
    "colab_type": "text",
    "id": "a3yIusqQRg5V"
   },
   "source": [
    "\n",
    "\n",
    "Before going through the recommender system modeling, we should show a little bit of data analysis on the data at hand. We will show some statistical measures to have a good glimpse of what to expect on the succeeding parts."
   ]
  },
  {
   "cell_type": "markdown",
   "metadata": {},
   "source": [
    "#### Top 10 Hashtags per Count "
   ]
  },
  {
   "cell_type": "code",
   "execution_count": 8,
   "metadata": {
    "ExecuteTime": {
     "end_time": "2020-11-01T16:31:14.856390Z",
     "start_time": "2020-11-01T16:31:14.591581Z"
    }
   },
   "outputs": [
    {
     "data": {
      "image/png": "[encoded data removed]",
      "text/plain": [
       "<Figure size 432x288 with 1 Axes>"
      ]
     },
     "metadata": {
      "needs_background": "light"
     },
     "output_type": "display_data"
    }
   ],
   "source": [
    "(pd.DataFrame(user_scores['hashtag'].value_counts())\n",
    " ).iloc[0:10].plot.barh().invert_yaxis()"
   ]
  },
  {
   "cell_type": "markdown",
   "metadata": {},
   "source": [
    "We can see from the results that the highest number of hashtags are seen to be the hashtag 'np' which means nowplaying."
   ]
  },
  {
   "cell_type": "markdown",
   "metadata": {},
   "source": [
    "#### Top 10 Sentiment Score per Usage"
   ]
  },
  {
   "cell_type": "code",
   "execution_count": 9,
   "metadata": {
    "ExecuteTime": {
     "end_time": "2020-11-01T16:31:15.009208Z",
     "start_time": "2020-11-01T16:31:14.858079Z"
    },
    "colab_type": "text",
    "id": "pL89bbIMR9eb"
   },
   "outputs": [
    {
     "data": {
      "image/png": "[encoded data removed]",
      "text/plain": [
       "<Figure size 432x288 with 1 Axes>"
      ]
     },
     "metadata": {
      "needs_background": "light"
     },
     "output_type": "display_data"
    }
   ],
   "source": [
    "(pd.DataFrame(user_final['Score'].value_counts())\n",
    " ).iloc[0:10].plot.barh().invert_yaxis()"
   ]
  },
  {
   "cell_type": "markdown",
   "metadata": {},
   "source": [
    "Based on the results, we can see the top 10 sentiment scores that is usually seen on the dataset. We can also see that a lot of users actually has a sentiment score of 0.675 which is already leaning to a positive sentiment."
   ]
  },
  {
   "cell_type": "markdown",
   "metadata": {},
   "source": [
    "#### Density Plot of the Sentiment Scores"
   ]
  },
  {
   "cell_type": "code",
   "execution_count": 10,
   "metadata": {
    "ExecuteTime": {
     "end_time": "2020-11-01T16:31:16.292121Z",
     "start_time": "2020-11-01T16:31:15.010964Z"
    }
   },
   "outputs": [
    {
     "data": {
      "text/plain": [
       "<matplotlib.axes._subplots.AxesSubplot at 0x7f64c7250c50>"
      ]
     },
     "execution_count": 10,
     "metadata": {},
     "output_type": "execute_result"
    },
    {
     "data": {
      "image/png": "[encoded data removed]",
      "text/plain": [
       "<Figure size 432x288 with 1 Axes>"
      ]
     },
     "metadata": {
      "needs_background": "light"
     },
     "output_type": "display_data"
    }
   ],
   "source": [
    "user_final['Score'].plot.density(legend=True)"
   ]
  },
  {
   "cell_type": "markdown",
   "metadata": {},
   "source": [
    "We can see from the density plot that the distribution of the sentiment scores are biased on the positive side leaning on the 75%"
   ]
  },
  {
   "cell_type": "code",
   "execution_count": 11,
   "metadata": {
    "ExecuteTime": {
     "end_time": "2020-11-01T16:31:17.465252Z",
     "start_time": "2020-11-01T16:31:16.295397Z"
    }
   },
   "outputs": [],
   "source": [
    "df_utility = user_final.pivot_table(\n",
    "    index='User', columns='Track_ID', values='Score', fill_value=None)"
   ]
  },
  {
   "cell_type": "markdown",
   "metadata": {},
   "source": [
    "#### Top 10 User by Mean Sentiment Score"
   ]
  },
  {
   "cell_type": "code",
   "execution_count": 12,
   "metadata": {
    "ExecuteTime": {
     "end_time": "2020-11-01T16:31:17.544694Z",
     "start_time": "2020-11-01T16:31:17.467655Z"
    }
   },
   "outputs": [
    {
     "data": {
      "text/plain": [
       "User\n",
       "261980126     1.0\n",
       "2237386121    1.0\n",
       "107705302     1.0\n",
       "162483406     1.0\n",
       "382358266     1.0\n",
       "241485471     1.0\n",
       "286671853     1.0\n",
       "32407042      1.0\n",
       "385460038     1.0\n",
       "260566741     1.0\n",
       "dtype: float64"
      ]
     },
     "execution_count": 12,
     "metadata": {},
     "output_type": "execute_result"
    }
   ],
   "source": [
    "df_utility.mean(axis=1).sort_values(ascending=False)[:10]"
   ]
  },
  {
   "cell_type": "markdown",
   "metadata": {
    "ExecuteTime": {
     "end_time": "2020-11-01T11:14:26.047185Z",
     "start_time": "2020-11-01T11:14:26.036211Z"
    }
   },
   "source": [
    "This users are considered to be listening to songs that they feel will be very positive to them."
   ]
  },
  {
   "cell_type": "markdown",
   "metadata": {},
   "source": [
    "#### Users having the Lowest Mean Sentiment Score"
   ]
  },
  {
   "cell_type": "code",
   "execution_count": 13,
   "metadata": {
    "ExecuteTime": {
     "end_time": "2020-11-01T16:31:17.621846Z",
     "start_time": "2020-11-01T16:31:17.546713Z"
    }
   },
   "outputs": [
    {
     "data": {
      "text/plain": [
       "User\n",
       "544870774    0.0\n",
       "976997209    0.0\n",
       "25836211     0.0\n",
       "120023998    0.0\n",
       "330113130    0.0\n",
       "330009969    0.0\n",
       "328917410    0.0\n",
       "25665281     0.0\n",
       "328697429    0.0\n",
       "223726997    0.0\n",
       "dtype: float64"
      ]
     },
     "execution_count": 13,
     "metadata": {},
     "output_type": "execute_result"
    }
   ],
   "source": [
    "df_utility.mean(axis=1).sort_values(ascending=True)[:10]"
   ]
  },
  {
   "cell_type": "markdown",
   "metadata": {},
   "source": [
    "This users are considered to be listening to songs that they feel to be very negative to them."
   ]
  },
  {
   "cell_type": "markdown",
   "metadata": {},
   "source": [
    "#### Density Plot per User's Mean Sentiment Scores"
   ]
  },
  {
   "cell_type": "code",
   "execution_count": 14,
   "metadata": {
    "ExecuteTime": {
     "end_time": "2020-11-01T16:31:17.946488Z",
     "start_time": "2020-11-01T16:31:17.623814Z"
    }
   },
   "outputs": [
    {
     "data": {
      "text/plain": [
       "<matplotlib.axes._subplots.AxesSubplot at 0x7f64c72468d0>"
      ]
     },
     "execution_count": 14,
     "metadata": {},
     "output_type": "execute_result"
    },
    {
     "data": {
      "image/png": "[encoded data removed]",
      "text/plain": [
       "<Figure size 432x288 with 1 Axes>"
      ]
     },
     "metadata": {
      "needs_background": "light"
     },
     "output_type": "display_data"
    }
   ],
   "source": [
    "df_utility.mean(axis=1).plot.density(legend=True, label='Mean Score Per User')"
   ]
  },
  {
   "cell_type": "markdown",
   "metadata": {},
   "source": [
    "Based on the results, we can see that it is almost the same as the previous density graph but with a little increase in distribution in the negative sentiment."
   ]
  },
  {
   "cell_type": "markdown",
   "metadata": {},
   "source": [
    "#### Top 10 Track IDs with Highest Mean Sentiment Score"
   ]
  },
  {
   "cell_type": "code",
   "execution_count": 15,
   "metadata": {
    "ExecuteTime": {
     "end_time": "2020-11-01T16:31:18.141980Z",
     "start_time": "2020-11-01T16:31:17.948488Z"
    }
   },
   "outputs": [
    {
     "data": {
      "text/plain": [
       "Track_ID\n",
       "bdd6b15608d1c638c96d48eeb32f3691    1.0\n",
       "01a8176a8cd6d2c3b764325c0468388d    1.0\n",
       "f5aced8e5417905217b5068636823a41    1.0\n",
       "66af6f5c0d1e9235bef50d10a0b3cfb7    1.0\n",
       "7da3030e9387c31b0c2662c65c72e45f    1.0\n",
       "51b345029b596b8858768e9ebe53d9f6    1.0\n",
       "6b25057ca5bc1ab10457c18efae4f41e    1.0\n",
       "8cdf9aea8a53e1766d00b888ce59e7d7    1.0\n",
       "1668a68ec2be20c1796e45013d30e0ea    1.0\n",
       "b31dce8b8b33ae7c95ec100973778d13    1.0\n",
       "dtype: float64"
      ]
     },
     "execution_count": 15,
     "metadata": {},
     "output_type": "execute_result"
    }
   ],
   "source": [
    "df_utility.mean(axis=0).sort_values(ascending=False)[:10]"
   ]
  },
  {
   "cell_type": "markdown",
   "metadata": {},
   "source": [
    "This Track_IDs/Songs seems to be tracks that emit positive sentiment since their sentiment scores/value is definitely on the positive side."
   ]
  },
  {
   "cell_type": "markdown",
   "metadata": {},
   "source": [
    "#### Track IDs with the Lowest Mean Sentiment Score"
   ]
  },
  {
   "cell_type": "code",
   "execution_count": 16,
   "metadata": {
    "ExecuteTime": {
     "end_time": "2020-11-01T16:31:18.342217Z",
     "start_time": "2020-11-01T16:31:18.143653Z"
    }
   },
   "outputs": [
    {
     "data": {
      "text/plain": [
       "Track_ID\n",
       "7f4baba1dcc4084db8c9eccd0444d550    0.0\n",
       "1f6664a032f9b0591cd1bc3d2b62f794    0.0\n",
       "b868de2a80d6e3a0aefb3fddbb275d28    0.0\n",
       "1f107fbc0ded35a4dd2a6a49b40252ee    0.0\n",
       "1eb172600a01170d0e93ef458959c04b    0.0\n",
       "b9bfe25f3281be05b3b98b44b1d35d56    0.0\n",
       "ba4fa69b30b40c14a36f097ed2c678d1    0.0\n",
       "ba53b9900c19b013816ff9b26ffffcc0    0.0\n",
       "1e74d99a4a46b582be68af046dfc0964    0.0\n",
       "ba5e8f1e3bf42f85bd2cdc00f5bc21c7    0.0\n",
       "dtype: float64"
      ]
     },
     "execution_count": 16,
     "metadata": {},
     "output_type": "execute_result"
    }
   ],
   "source": [
    "df_utility.mean(axis=0).sort_values(ascending=True)[:10]"
   ]
  },
  {
   "cell_type": "markdown",
   "metadata": {},
   "source": [
    "Based on the result, this track ids have the tendency to be leaning on the negative sentiment since their mean score are definitely on the negative scale."
   ]
  },
  {
   "cell_type": "markdown",
   "metadata": {},
   "source": [
    "#### Density Plot of the Track ID/Songs per Mean Sentiment Scores"
   ]
  },
  {
   "cell_type": "code",
   "execution_count": 17,
   "metadata": {
    "ExecuteTime": {
     "end_time": "2020-11-01T16:31:19.332788Z",
     "start_time": "2020-11-01T16:31:18.343659Z"
    }
   },
   "outputs": [
    {
     "data": {
      "text/plain": [
       "<matplotlib.axes._subplots.AxesSubplot at 0x7f64c7158d90>"
      ]
     },
     "execution_count": 17,
     "metadata": {},
     "output_type": "execute_result"
    },
    {
     "data": {
      "image/png": "[encoded data removed]",
      "text/plain": [
       "<Figure size 432x288 with 1 Axes>"
      ]
     },
     "metadata": {
      "needs_background": "light"
     },
     "output_type": "display_data"
    }
   ],
   "source": [
    "df_utility.mean(axis=0).plot.density(\n",
    "    legend=True, label='Mean Score Per Track/Song')"
   ]
  },
  {
   "cell_type": "markdown",
   "metadata": {},
   "source": [
    "Based on the results, we can that it almost copies the first density plot which solidifies our claim that the dataset is more of biased on the positive sentiment score/positive feelings."
   ]
  },
  {
   "cell_type": "markdown",
   "metadata": {},
   "source": [
    "Now that we have already show some statistical measures and data analysis, we can already proceed with the colloborative filtering programs."
   ]
  },
  {
   "cell_type": "markdown",
   "metadata": {},
   "source": [
    "<div><span style=\"background-color: #488f31; padding-top: 100px; padding-right: 20px; padding-bottom: 50px; padding-left: 20px; color: white; font-size: 20px; font-weight: bold\">Collaborative Filtering</span></div>"
   ]
  },
  {
   "cell_type": "markdown",
   "metadata": {},
   "source": [
    "The Collaborative filtering process will be broken to 4 Different Models, each showcasing different characteristics which will be described on the following parts. The 4 parts are as follows:\n",
    "\n",
    "    1. User Based Collaborative Filtering using Base Algorithm\n",
    "    2. User Based Collaborative Filtering using Surprise Library Function\n",
    "    3. Item Based Collaborative Filtering using Base Algorithm\n",
    "    4. Item Based Collaborative Filtering using Surprise Library Function\n",
    "\n",
    "In order to minimize also the scope, we will be choosing a unique user as an example in predicting the next possible songs"
   ]
  },
  {
   "cell_type": "markdown",
   "metadata": {},
   "source": [
    "## User-Based Next Song Recommender - Algorithm"
   ]
  },
  {
   "cell_type": "markdown",
   "metadata": {},
   "source": [
    "In order to create a recommender system that is based on the user's choice of songs, we will try to use the the user-based collaborative filtering. The algorithm for a user-based collaborative filtering are as follows:\n",
    "\n",
    "    for every user U:\n",
    "        find n most similar users\n",
    "        for every unrated item I of U:\n",
    "            set rating as the weighted average rating among the most similar users who rated that item\n",
    "\n",
    "The code below will use the algorithm above to recommend next songs based on the user choice of songs which in relation to the similar users of the user_ids."
   ]
  },
  {
   "cell_type": "code",
   "execution_count": 18,
   "metadata": {
    "ExecuteTime": {
     "end_time": "2020-11-01T16:31:46.769497Z",
     "start_time": "2020-11-01T16:31:46.750449Z"
    }
   },
   "outputs": [],
   "source": [
    "def user_recommend(user, df, hw, sim_user):\n",
    "    \"\"\"A Function that accepts a different parameters and returns the best  \n",
    "    recommendations for that user by a user-based recommender \n",
    "    system.\n",
    "\n",
    "    user(String) - Specific User String\n",
    "    df(dataframe) - Specific Final Dataframe with Sentiment Scores\n",
    "    hw(integer) - Number of Recommendations to Return\n",
    "    sim_user(integer) - Number of Similar Users to take account\"\"\"\n",
    "\n",
    "    # creating the Utility Matrix\n",
    "\n",
    "    orig = df.copy().set_index('User')\n",
    "    track = orig.loc[user]['Track_ID'].values\n",
    "    df2 = orig[orig.Track_ID.isin(track)]\n",
    "    withsim = list(set(df2.index))\n",
    "    orig3 = orig.loc[withsim].pivot_table(index='User',\n",
    "                                          columns='Track_ID',\n",
    "                                          values='Score',\n",
    "                                          fill_value=None)\n",
    "    # Mean Centering\n",
    "\n",
    "    df4 = (orig3.sub(orig3.mean(axis=1), axis=0)).dropna(axis=0, how='all')\n",
    "\n",
    "    # Similar Users\n",
    "\n",
    "    newdf = df4.drop(user)\n",
    "    df_sim = pd.DataFrame(columns=['track', 'cosd', 'simd'])\n",
    "    for x1 in newdf.index:\n",
    "        newdf1 = df4.loc[[user, x1]].dropna(axis=1).to_numpy()\n",
    "        cos = cosine(newdf1[0], newdf1[1])\n",
    "        sim = 1-cos\n",
    "        df_sim.loc[x1] = [x1, cos, sim]\n",
    "\n",
    "    df_supersim = df_sim.sort_values(by=['cosd', 'track'])[:sim_user]\n",
    "    first1 = list(df_supersim.index.values)\n",
    "    first1.append(user)\n",
    "    finaldf = df4.loc[first1]\n",
    "    finaldf3 = finaldf.drop(user)\n",
    "    simil = (df_supersim['simd'].to_numpy())\n",
    "\n",
    "    # ratings\n",
    "    ratings = pd.DataFrame(columns=['Ratings', 'Track ID'])\n",
    "    for x2 in finaldf3.columns:\n",
    "        if np.isnan(orig3.loc[user][x2]):\n",
    "            a = (simil*finaldf3[x2]*finaldf3[x2].notnull()).sum()\n",
    "            b = (np.abs(simil)*finaldf3[x2].notnull()).sum()\n",
    "            c = orig3.loc[user].mean()\n",
    "            d = ((a/b)+c)\n",
    "            ratings.loc[x2] = [d, x2]\n",
    "\n",
    "    results = ratings.sort_values(by=['Ratings', 'Track ID'],\n",
    "                                  ascending=False)[:hw].drop('Track ID',\n",
    "                                                             axis=1)\n",
    "\n",
    "    return results"
   ]
  },
  {
   "cell_type": "markdown",
   "metadata": {
    "ExecuteTime": {
     "end_time": "2020-10-31T14:43:09.408260Z",
     "start_time": "2020-10-31T14:43:09.404184Z"
    }
   },
   "source": [
    "We will be passing in the user_recommend function the final dataframe from the data preprocessing stage, this final dataframe will serve the as main dataset where the songs will be recommended. In order to have a holistic view of the recommender system, we will be choosing a variable user_id which we will be used for the whole research. \n",
    "\n",
    "The user_id we will choose will serve a user who has chosen and listened to several songs and would like to have a recommended songs on the next play. For now, let us pass the chosen user which is **user:1410001**.\n",
    "\n",
    "We will also be showing only the top 10 songs that is recommended for this user reflected by the \"hw\" variable. We will also chose only the first 10 similar users where the cosine distance between the chosen user and the other users is the closest. This is reflected on the sim_user variable.\n",
    "\n",
    "The result of the function above are as follows:"
   ]
  },
  {
   "cell_type": "code",
   "execution_count": 19,
   "metadata": {
    "ExecuteTime": {
     "end_time": "2020-11-01T16:32:33.561512Z",
     "start_time": "2020-11-01T16:31:49.712616Z"
    }
   },
   "outputs": [
    {
     "data": {
      "text/html": [
       "<div>\n",
       "<style scoped>\n",
       "    .dataframe tbody tr th:only-of-type {\n",
       "        vertical-align: middle;\n",
       "    }\n",
       "\n",
       "    .dataframe tbody tr th {\n",
       "        vertical-align: top;\n",
       "    }\n",
       "\n",
       "    .dataframe thead th {\n",
       "        text-align: right;\n",
       "    }\n",
       "</style>\n",
       "<table border=\"1\" class=\"dataframe\">\n",
       "  <thead>\n",
       "    <tr style=\"text-align: right;\">\n",
       "      <th></th>\n",
       "      <th>Ratings</th>\n",
       "    </tr>\n",
       "  </thead>\n",
       "  <tbody>\n",
       "    <tr>\n",
       "      <th>713e34466e7adee5fac5d856f25b60d9</th>\n",
       "      <td>0.783440</td>\n",
       "    </tr>\n",
       "    <tr>\n",
       "      <th>67a0c3497a087baa943748d42429d163</th>\n",
       "      <td>0.704274</td>\n",
       "    </tr>\n",
       "    <tr>\n",
       "      <th>a15914b2e83be19a36b65df32bf92644</th>\n",
       "      <td>0.627885</td>\n",
       "    </tr>\n",
       "    <tr>\n",
       "      <th>1d8a888a25d9fd9dd74ad8b5f3d808fe</th>\n",
       "      <td>0.627885</td>\n",
       "    </tr>\n",
       "    <tr>\n",
       "      <th>d5aef58f7e6e7cf36b7af3d4bad557d4</th>\n",
       "      <td>0.537520</td>\n",
       "    </tr>\n",
       "    <tr>\n",
       "      <th>47ef11452c85e9a37a13ba5af5a27bcc</th>\n",
       "      <td>0.517572</td>\n",
       "    </tr>\n",
       "    <tr>\n",
       "      <th>2194695885ccab41b5afa766a9302652</th>\n",
       "      <td>0.508614</td>\n",
       "    </tr>\n",
       "    <tr>\n",
       "      <th>682ca91627fafb2a140f3aa93631d821</th>\n",
       "      <td>0.467572</td>\n",
       "    </tr>\n",
       "    <tr>\n",
       "      <th>9b7f248560ec731a4ffecc526e1f5528</th>\n",
       "      <td>0.466478</td>\n",
       "    </tr>\n",
       "    <tr>\n",
       "      <th>f6f8ce0a02aac7888c3138ec00a5cdb5</th>\n",
       "      <td>0.465619</td>\n",
       "    </tr>\n",
       "  </tbody>\n",
       "</table>\n",
       "</div>"
      ],
      "text/plain": [
       "                                   Ratings\n",
       "713e34466e7adee5fac5d856f25b60d9  0.783440\n",
       "67a0c3497a087baa943748d42429d163  0.704274\n",
       "a15914b2e83be19a36b65df32bf92644  0.627885\n",
       "1d8a888a25d9fd9dd74ad8b5f3d808fe  0.627885\n",
       "d5aef58f7e6e7cf36b7af3d4bad557d4  0.537520\n",
       "47ef11452c85e9a37a13ba5af5a27bcc  0.517572\n",
       "2194695885ccab41b5afa766a9302652  0.508614\n",
       "682ca91627fafb2a140f3aa93631d821  0.467572\n",
       "9b7f248560ec731a4ffecc526e1f5528  0.466478\n",
       "f6f8ce0a02aac7888c3138ec00a5cdb5  0.465619"
      ]
     },
     "execution_count": 19,
     "metadata": {},
     "output_type": "execute_result"
    }
   ],
   "source": [
    "Top_ten_user_function = user_recommend(1410001, user_final, 10, 10)\n",
    "Top_ten_user_function"
   ]
  },
  {
   "cell_type": "markdown",
   "metadata": {
    "ExecuteTime": {
     "end_time": "2020-10-31T15:02:31.888348Z",
     "start_time": "2020-10-31T15:02:31.883804Z"
    }
   },
   "source": [
    "We can see from the results above that the needed recommended songs for the user: 1410001 have varying ratings of sentiment scores."
   ]
  },
  {
   "cell_type": "markdown",
   "metadata": {},
   "source": [
    "There is also a possibility of using the Surpise Library Function to simulate a user based collaborative filtering. We will be using the same user and compare and contrast the resulting recommended songs to have a good conclusion."
   ]
  },
  {
   "cell_type": "markdown",
   "metadata": {},
   "source": [
    "## User-Based Next Song Recommender- Surprise"
   ]
  },
  {
   "cell_type": "markdown",
   "metadata": {},
   "source": [
    "The Surprise function is an python sci-kit used for building, analyzing and modeling recommender system which can be used for dataset having explicit rating data. Since we used our sentiment scores as the explicit ratings, then is it also possible that surprise function can be used for the modeling of the recommender system."
   ]
  },
  {
   "cell_type": "markdown",
   "metadata": {
    "ExecuteTime": {
     "end_time": "2020-11-01T11:35:04.207119Z",
     "start_time": "2020-11-01T11:35:04.199139Z"
    }
   },
   "source": [
    "The code below will use the knnmeans function of surprise which mimics the mean centering properties of our algorithm above."
   ]
  },
  {
   "cell_type": "code",
   "execution_count": 20,
   "metadata": {
    "ExecuteTime": {
     "end_time": "2020-11-01T16:32:42.209941Z",
     "start_time": "2020-11-01T16:32:41.192654Z"
    }
   },
   "outputs": [
    {
     "name": "stdout",
     "output_type": "stream",
     "text": [
      "Computing the cosine similarity matrix...\n",
      "Done computing similarity matrix.\n"
     ]
    },
    {
     "data": {
      "text/plain": [
       "<surprise.prediction_algorithms.knns.KNNWithMeans at 0x7f64c48b9610>"
      ]
     },
     "execution_count": 20,
     "metadata": {},
     "output_type": "execute_result"
    }
   ],
   "source": [
    "from surprise import (Reader, Dataset, KNNWithMeans)\n",
    "user_final_sur = user_final.set_index('User', drop=False)\n",
    "reader = Reader(rating_scale=(0, 1))\n",
    "dataset_user = Dataset.load_from_df(user_final_sur, reader)\n",
    "sim_options = {'name': 'cosine', 'user_based': True,\n",
    "               'min_support': 1, 'shrinkage': 0}\n",
    "knn = KNNWithMeans(k=10, sim_options=sim_options)\n",
    "knn.fit(dataset_user.build_full_trainset())"
   ]
  },
  {
   "cell_type": "markdown",
   "metadata": {},
   "source": [
    "Showing the **Top Ten Recommended Results using the Surprise function**"
   ]
  },
  {
   "cell_type": "code",
   "execution_count": 21,
   "metadata": {
    "ExecuteTime": {
     "end_time": "2020-11-01T16:32:42.435413Z",
     "start_time": "2020-11-01T16:32:42.212175Z"
    }
   },
   "outputs": [
    {
     "data": {
      "text/html": [
       "<div>\n",
       "<style scoped>\n",
       "    .dataframe tbody tr th:only-of-type {\n",
       "        vertical-align: middle;\n",
       "    }\n",
       "\n",
       "    .dataframe tbody tr th {\n",
       "        vertical-align: top;\n",
       "    }\n",
       "\n",
       "    .dataframe thead th {\n",
       "        text-align: right;\n",
       "    }\n",
       "</style>\n",
       "<table border=\"1\" class=\"dataframe\">\n",
       "  <thead>\n",
       "    <tr style=\"text-align: right;\">\n",
       "      <th></th>\n",
       "      <th>Ratings</th>\n",
       "    </tr>\n",
       "  </thead>\n",
       "  <tbody>\n",
       "    <tr>\n",
       "      <th>27d4461343169df62c708c04195e1c16</th>\n",
       "      <td>1</td>\n",
       "    </tr>\n",
       "    <tr>\n",
       "      <th>4ba0e0519c924e5c2713ca16163e2319</th>\n",
       "      <td>0.847517</td>\n",
       "    </tr>\n",
       "    <tr>\n",
       "      <th>ae6d8a8f10e7195e1e6eb1597dcb08f9</th>\n",
       "      <td>0.805851</td>\n",
       "    </tr>\n",
       "    <tr>\n",
       "      <th>5cd1c4f96b9ee8e498adec04ad24c13a</th>\n",
       "      <td>0.737412</td>\n",
       "    </tr>\n",
       "    <tr>\n",
       "      <th>c91b66264b8c1250c4ea6f9a818029aa</th>\n",
       "      <td>0.734912</td>\n",
       "    </tr>\n",
       "    <tr>\n",
       "      <th>0326791699bd5c39b49a5695a1221618</th>\n",
       "      <td>0.724601</td>\n",
       "    </tr>\n",
       "    <tr>\n",
       "      <th>394f5fd51d4bb27603dfc17b4485c1e4</th>\n",
       "      <td>0.724601</td>\n",
       "    </tr>\n",
       "    <tr>\n",
       "      <th>2c7d6ffa58e9bc2050dcd3a8f4a94220</th>\n",
       "      <td>0.687412</td>\n",
       "    </tr>\n",
       "    <tr>\n",
       "      <th>18939d2d70af5b04dc6f09efdd1f4856</th>\n",
       "      <td>0.687412</td>\n",
       "    </tr>\n",
       "    <tr>\n",
       "      <th>347adc97e1197c72ad50b325b3aecbb1</th>\n",
       "      <td>0.687412</td>\n",
       "    </tr>\n",
       "  </tbody>\n",
       "</table>\n",
       "</div>"
      ],
      "text/plain": [
       "                                   Ratings\n",
       "27d4461343169df62c708c04195e1c16         1\n",
       "4ba0e0519c924e5c2713ca16163e2319  0.847517\n",
       "ae6d8a8f10e7195e1e6eb1597dcb08f9  0.805851\n",
       "5cd1c4f96b9ee8e498adec04ad24c13a  0.737412\n",
       "c91b66264b8c1250c4ea6f9a818029aa  0.734912\n",
       "0326791699bd5c39b49a5695a1221618  0.724601\n",
       "394f5fd51d4bb27603dfc17b4485c1e4  0.724601\n",
       "2c7d6ffa58e9bc2050dcd3a8f4a94220  0.687412\n",
       "18939d2d70af5b04dc6f09efdd1f4856  0.687412\n",
       "347adc97e1197c72ad50b325b3aecbb1  0.687412"
      ]
     },
     "execution_count": 21,
     "metadata": {},
     "output_type": "execute_result"
    }
   ],
   "source": [
    "list1 = []\n",
    "user_preferred = 1410001\n",
    "\n",
    "for x in user_final.Track_ID.unique():\n",
    "    res = knn.predict(user_preferred, x)[3]\n",
    "    list1.append((x, res))\n",
    "Top_ten_user_suprise = pd.DataFrame(columns=['Ratings'])\n",
    "\n",
    "for x in sorted(list1, key=lambda x: (x[1]), reverse=True)[:10]:\n",
    "    Top_ten_user_suprise.loc[x[0]] = x[1]\n",
    "Top_ten_user_suprise"
   ]
  },
  {
   "cell_type": "markdown",
   "metadata": {},
   "source": [
    "Since we can see that the results are quite different with the algorithm based, let us also get the predicted ratings from the results of the algorithm based"
   ]
  },
  {
   "cell_type": "code",
   "execution_count": 22,
   "metadata": {
    "ExecuteTime": {
     "end_time": "2020-11-01T16:32:43.144787Z",
     "start_time": "2020-11-01T16:32:43.138104Z"
    }
   },
   "outputs": [],
   "source": [
    "Top_ten_user_funcsurp = Top_ten_user_function.copy()\n",
    "Top_ten_user_funcsurp['Surprise'] = Top_ten_user_function.Ratings"
   ]
  },
  {
   "cell_type": "code",
   "execution_count": 23,
   "metadata": {
    "ExecuteTime": {
     "end_time": "2020-11-01T16:32:43.766837Z",
     "start_time": "2020-11-01T16:32:43.749510Z"
    }
   },
   "outputs": [
    {
     "data": {
      "text/html": [
       "<div>\n",
       "<style scoped>\n",
       "    .dataframe tbody tr th:only-of-type {\n",
       "        vertical-align: middle;\n",
       "    }\n",
       "\n",
       "    .dataframe tbody tr th {\n",
       "        vertical-align: top;\n",
       "    }\n",
       "\n",
       "    .dataframe thead th {\n",
       "        text-align: right;\n",
       "    }\n",
       "</style>\n",
       "<table border=\"1\" class=\"dataframe\">\n",
       "  <thead>\n",
       "    <tr style=\"text-align: right;\">\n",
       "      <th></th>\n",
       "      <th>Ratings</th>\n",
       "      <th>Surprise</th>\n",
       "    </tr>\n",
       "  </thead>\n",
       "  <tbody>\n",
       "    <tr>\n",
       "      <th>713e34466e7adee5fac5d856f25b60d9</th>\n",
       "      <td>0.783440</td>\n",
       "      <td>0.465385</td>\n",
       "    </tr>\n",
       "    <tr>\n",
       "      <th>67a0c3497a087baa943748d42429d163</th>\n",
       "      <td>0.704274</td>\n",
       "      <td>0.465385</td>\n",
       "    </tr>\n",
       "    <tr>\n",
       "      <th>a15914b2e83be19a36b65df32bf92644</th>\n",
       "      <td>0.627885</td>\n",
       "      <td>0.550825</td>\n",
       "    </tr>\n",
       "    <tr>\n",
       "      <th>1d8a888a25d9fd9dd74ad8b5f3d808fe</th>\n",
       "      <td>0.627885</td>\n",
       "      <td>0.627885</td>\n",
       "    </tr>\n",
       "    <tr>\n",
       "      <th>d5aef58f7e6e7cf36b7af3d4bad557d4</th>\n",
       "      <td>0.537520</td>\n",
       "      <td>0.537520</td>\n",
       "    </tr>\n",
       "    <tr>\n",
       "      <th>47ef11452c85e9a37a13ba5af5a27bcc</th>\n",
       "      <td>0.517572</td>\n",
       "      <td>0.525931</td>\n",
       "    </tr>\n",
       "    <tr>\n",
       "      <th>2194695885ccab41b5afa766a9302652</th>\n",
       "      <td>0.508614</td>\n",
       "      <td>0.508614</td>\n",
       "    </tr>\n",
       "    <tr>\n",
       "      <th>682ca91627fafb2a140f3aa93631d821</th>\n",
       "      <td>0.467572</td>\n",
       "      <td>0.491820</td>\n",
       "    </tr>\n",
       "    <tr>\n",
       "      <th>9b7f248560ec731a4ffecc526e1f5528</th>\n",
       "      <td>0.466478</td>\n",
       "      <td>0.464313</td>\n",
       "    </tr>\n",
       "    <tr>\n",
       "      <th>f6f8ce0a02aac7888c3138ec00a5cdb5</th>\n",
       "      <td>0.465619</td>\n",
       "      <td>0.465619</td>\n",
       "    </tr>\n",
       "  </tbody>\n",
       "</table>\n",
       "</div>"
      ],
      "text/plain": [
       "                                   Ratings  Surprise\n",
       "713e34466e7adee5fac5d856f25b60d9  0.783440  0.465385\n",
       "67a0c3497a087baa943748d42429d163  0.704274  0.465385\n",
       "a15914b2e83be19a36b65df32bf92644  0.627885  0.550825\n",
       "1d8a888a25d9fd9dd74ad8b5f3d808fe  0.627885  0.627885\n",
       "d5aef58f7e6e7cf36b7af3d4bad557d4  0.537520  0.537520\n",
       "47ef11452c85e9a37a13ba5af5a27bcc  0.517572  0.525931\n",
       "2194695885ccab41b5afa766a9302652  0.508614  0.508614\n",
       "682ca91627fafb2a140f3aa93631d821  0.467572  0.491820\n",
       "9b7f248560ec731a4ffecc526e1f5528  0.466478  0.464313\n",
       "f6f8ce0a02aac7888c3138ec00a5cdb5  0.465619  0.465619"
      ]
     },
     "execution_count": 23,
     "metadata": {},
     "output_type": "execute_result"
    }
   ],
   "source": [
    "for x in Top_ten_user_function.index:\n",
    "    res = knn.predict(user_preferred, x)[3]\n",
    "    Top_ten_user_funcsurp['Surprise'].loc[x] = res\n",
    "Top_ten_user_funcsurp"
   ]
  },
  {
   "cell_type": "markdown",
   "metadata": {
    "ExecuteTime": {
     "end_time": "2020-10-31T15:26:05.757133Z",
     "start_time": "2020-10-31T15:26:05.751150Z"
    }
   },
   "source": [
    "Since there is a possibility of different song recommended for the Algorithm Based and Surprise Based Algorithm, we will be discussing the most suitable recommender system in the results section. We will now proceed to the Item based part."
   ]
  },
  {
   "cell_type": "markdown",
   "metadata": {},
   "source": [
    "## Item-Based Next Song Recommender - Algorithm"
   ]
  },
  {
   "cell_type": "markdown",
   "metadata": {},
   "source": [
    "In order to create a recommender system that is based on the user's choice of songs, we will try to use the the item-based collaborative filtering. The algorithm for a item-based collaborative filtering are as follows:\n",
    "\n",
    "    for every item I:\n",
    "        find n most similar items\n",
    "        for every user U that did not rate I:\n",
    "            set rating as the weighted average rating among the most similar items rated by U\n",
    "\n",
    "The code below will use the algorithm above to recommend next songs based on the user choice of songs which in relation to the similar users of the track_id."
   ]
  },
  {
   "cell_type": "code",
   "execution_count": 24,
   "metadata": {
    "ExecuteTime": {
     "end_time": "2020-11-01T16:32:59.069324Z",
     "start_time": "2020-11-01T16:32:59.054980Z"
    }
   },
   "outputs": [],
   "source": [
    "def item_recommend(user, df, hw, sim_user, tracklist):\n",
    "    \"\"\"A Function that accepts a different parameters and returns the best  \n",
    "    recommendations for that user by a user-based recommender \n",
    "    system.\n",
    "\n",
    "    user(String) - Specific User String\n",
    "    df(dataframe) - Specific Final Dataframe with Sentiment Scores\n",
    "    hw(integer) - Number of Recommendations to Return\n",
    "    sim_user(integer) - Number of Similar Users to take account\n",
    "    tracklist(list) - List of Chosen Track ids\"\"\"\n",
    "\n",
    "    # creating the utility matrix\n",
    "    orig = df.copy().set_index('User')\n",
    "    orig2 = orig.pivot_table(\n",
    "        index='User', columns='Track_ID', values='Score', fill_value=None)\n",
    "    orig3 = orig2.copy()\n",
    "\n",
    "    # mean centering\n",
    "    df_mean = (orig3.sub(orig3.mean(axis=1), axis=0)).dropna(axis=0, how='all')\n",
    "    results = []\n",
    "\n",
    "    # getting the similar uses and ratings\n",
    "    nanlist = tracklist\n",
    "    with tqdm(total=len(nanlist)*df_mean.shape[1]) as pbar:\n",
    "        for x1 in nanlist:\n",
    "            newdf = df_mean.drop(x1, axis=1)\n",
    "            list1 = []\n",
    "            for x2 in newdf.columns:\n",
    "                newdf1 = df_mean[[x1, x2]].dropna(axis=0)\n",
    "                CD = cosine(newdf1[x1].values, newdf1[x2].values)\n",
    "                if CD != np.nan:\n",
    "                    list1.append([x2, CD, 1-CD])\n",
    "\n",
    "                pbar.update(1)\n",
    "\n",
    "            simil_user = pd.DataFrame(list1, columns=['items', 'cosd', 'simd'])\n",
    "            sortsim = simil_user.dropna().sort_values(\n",
    "                by=['cosd', 'items'])[:sim_user]\n",
    "            index_similar = sortsim['items'].values\n",
    "            simil = (sortsim['simd'].values)\n",
    "            a = (df_mean[index_similar].loc[user].values*simil *\n",
    "                 df_mean[index_similar].loc[user].notnull()).sum()\n",
    "            b = (np.abs(simil) *\n",
    "                 df_mean[index_similar].loc[user].notnull()).sum()\n",
    "            c = orig3.loc[user].mean()\n",
    "            try:\n",
    "                results.append((x1, (a/b)+c))\n",
    "            except:\n",
    "                pass\n",
    "        res1 = pd.DataFrame(results, columns=['items', 'ratings']).dropna()\n",
    "        res2 = res1.sort_values(by=['ratings', 'items'],\n",
    "                                ascending=[False, True])[:hw]\n",
    "    return res2"
   ]
  },
  {
   "cell_type": "markdown",
   "metadata": {},
   "source": [
    "**Note!**:\n",
    "\n",
    "It is well known in the data science community that if the number of track_id are very large, then the item based would have a long running time. For our dataset, which has around 22,000 Track IDS on the utility matrix, it will actually parse through each of this track, take several hours to perform (22,000 times 22,000). In order to minimize the scope, we will be only checking the ratings of the track ids of the top ten in the user based recommender algorithm.\n",
    "\n",
    "The result are as follows:"
   ]
  },
  {
   "cell_type": "code",
   "execution_count": 25,
   "metadata": {
    "ExecuteTime": {
     "end_time": "2020-11-01T16:41:09.883322Z",
     "start_time": "2020-11-01T16:33:00.635858Z"
    }
   },
   "outputs": [
    {
     "name": "stderr",
     "output_type": "stream",
     "text": [
      "100%|█████████▉| 220910/220920 [08:06<00:00, 454.05it/s]\n"
     ]
    }
   ],
   "source": [
    "Top_ten_item_function = item_recommend(\n",
    "    1410001, user_final, 10, 10, Top_ten_user_function.index)"
   ]
  },
  {
   "cell_type": "code",
   "execution_count": 26,
   "metadata": {
    "ExecuteTime": {
     "end_time": "2020-11-01T16:46:30.771298Z",
     "start_time": "2020-11-01T16:46:30.756830Z"
    }
   },
   "outputs": [
    {
     "data": {
      "text/html": [
       "<div>\n",
       "<style scoped>\n",
       "    .dataframe tbody tr th:only-of-type {\n",
       "        vertical-align: middle;\n",
       "    }\n",
       "\n",
       "    .dataframe tbody tr th {\n",
       "        vertical-align: top;\n",
       "    }\n",
       "\n",
       "    .dataframe thead th {\n",
       "        text-align: right;\n",
       "    }\n",
       "</style>\n",
       "<table border=\"1\" class=\"dataframe\">\n",
       "  <thead>\n",
       "    <tr style=\"text-align: right;\">\n",
       "      <th></th>\n",
       "      <th>items</th>\n",
       "      <th>ratings</th>\n",
       "    </tr>\n",
       "  </thead>\n",
       "  <tbody>\n",
       "    <tr>\n",
       "      <th>6</th>\n",
       "      <td>2194695885ccab41b5afa766a9302652</td>\n",
       "      <td>0.630769</td>\n",
       "    </tr>\n",
       "    <tr>\n",
       "      <th>1</th>\n",
       "      <td>67a0c3497a087baa943748d42429d163</td>\n",
       "      <td>0.630769</td>\n",
       "    </tr>\n",
       "    <tr>\n",
       "      <th>0</th>\n",
       "      <td>713e34466e7adee5fac5d856f25b60d9</td>\n",
       "      <td>0.630769</td>\n",
       "    </tr>\n",
       "    <tr>\n",
       "      <th>4</th>\n",
       "      <td>d5aef58f7e6e7cf36b7af3d4bad557d4</td>\n",
       "      <td>0.630769</td>\n",
       "    </tr>\n",
       "    <tr>\n",
       "      <th>3</th>\n",
       "      <td>1d8a888a25d9fd9dd74ad8b5f3d808fe</td>\n",
       "      <td>0.568750</td>\n",
       "    </tr>\n",
       "  </tbody>\n",
       "</table>\n",
       "</div>"
      ],
      "text/plain": [
       "                              items   ratings\n",
       "6  2194695885ccab41b5afa766a9302652  0.630769\n",
       "1  67a0c3497a087baa943748d42429d163  0.630769\n",
       "0  713e34466e7adee5fac5d856f25b60d9  0.630769\n",
       "4  d5aef58f7e6e7cf36b7af3d4bad557d4  0.630769\n",
       "3  1d8a888a25d9fd9dd74ad8b5f3d808fe  0.568750"
      ]
     },
     "execution_count": 26,
     "metadata": {},
     "output_type": "execute_result"
    }
   ],
   "source": [
    "Top_ten_item_function"
   ]
  },
  {
   "cell_type": "markdown",
   "metadata": {},
   "source": [
    "## Item-Based Next Song Recommender- Surprise"
   ]
  },
  {
   "cell_type": "markdown",
   "metadata": {
    "ExecuteTime": {
     "end_time": "2020-11-01T07:52:25.957644Z",
     "start_time": "2020-11-01T07:52:25.946669Z"
    }
   },
   "source": [
    "We will also be checking the results of the ratings when using the item based function on the surprise library."
   ]
  },
  {
   "cell_type": "code",
   "execution_count": 27,
   "metadata": {
    "ExecuteTime": {
     "end_time": "2020-11-01T16:47:04.261831Z",
     "start_time": "2020-11-01T16:46:34.662900Z"
    }
   },
   "outputs": [
    {
     "name": "stdout",
     "output_type": "stream",
     "text": [
      "Computing the cosine similarity matrix...\n",
      "Done computing similarity matrix.\n"
     ]
    },
    {
     "data": {
      "text/plain": [
       "<surprise.prediction_algorithms.knns.KNNWithMeans at 0x7f64c48b9650>"
      ]
     },
     "execution_count": 27,
     "metadata": {},
     "output_type": "execute_result"
    }
   ],
   "source": [
    "from surprise import (Reader, Dataset, KNNWithMeans)\n",
    "user_final_sur = user_final.set_index('User', drop=False)\n",
    "reader = Reader(rating_scale=(0, 1))\n",
    "dataset_user = Dataset.load_from_df(user_final_sur, reader)\n",
    "sim_options = {'name': 'cosine', 'user_based': False,\n",
    "               'min_support': 1, 'shrinkage': 0, 'squeeze': 0}\n",
    "knn = KNNWithMeans(k=10, sim_options=sim_options)\n",
    "knn.fit(dataset_user.build_full_trainset())"
   ]
  },
  {
   "cell_type": "code",
   "execution_count": 28,
   "metadata": {
    "ExecuteTime": {
     "end_time": "2020-11-01T16:47:09.642594Z",
     "start_time": "2020-11-01T16:47:08.641793Z"
    }
   },
   "outputs": [
    {
     "data": {
      "text/html": [
       "<div>\n",
       "<style scoped>\n",
       "    .dataframe tbody tr th:only-of-type {\n",
       "        vertical-align: middle;\n",
       "    }\n",
       "\n",
       "    .dataframe tbody tr th {\n",
       "        vertical-align: top;\n",
       "    }\n",
       "\n",
       "    .dataframe thead th {\n",
       "        text-align: right;\n",
       "    }\n",
       "</style>\n",
       "<table border=\"1\" class=\"dataframe\">\n",
       "  <thead>\n",
       "    <tr style=\"text-align: right;\">\n",
       "      <th></th>\n",
       "      <th>Ratings</th>\n",
       "    </tr>\n",
       "  </thead>\n",
       "  <tbody>\n",
       "    <tr>\n",
       "      <th>c49d2670c7327779a2abc0f148468ac7</th>\n",
       "      <td>1</td>\n",
       "    </tr>\n",
       "    <tr>\n",
       "      <th>42010e5165700c22389df1fad5faf234</th>\n",
       "      <td>1</td>\n",
       "    </tr>\n",
       "    <tr>\n",
       "      <th>8c247a70e53fd1e76b021f0fca4b0d01</th>\n",
       "      <td>1</td>\n",
       "    </tr>\n",
       "    <tr>\n",
       "      <th>cbada6c94eaa54330a955bc760b06034</th>\n",
       "      <td>1</td>\n",
       "    </tr>\n",
       "    <tr>\n",
       "      <th>dc8a89ed63b90bb3c0506fd23cbd8286</th>\n",
       "      <td>1</td>\n",
       "    </tr>\n",
       "    <tr>\n",
       "      <th>52353ad9977096c4504e54148b660523</th>\n",
       "      <td>1</td>\n",
       "    </tr>\n",
       "    <tr>\n",
       "      <th>5452230512e9ecaf5a1f6ef94b34264f</th>\n",
       "      <td>1</td>\n",
       "    </tr>\n",
       "    <tr>\n",
       "      <th>db97f6bc4862b2eec74ef32408c3b003</th>\n",
       "      <td>1</td>\n",
       "    </tr>\n",
       "    <tr>\n",
       "      <th>e25deb27a8c09a6071d4ba92ce5a99ab</th>\n",
       "      <td>1</td>\n",
       "    </tr>\n",
       "    <tr>\n",
       "      <th>f9295b1a57078dee740e34b90b3d680e</th>\n",
       "      <td>1</td>\n",
       "    </tr>\n",
       "  </tbody>\n",
       "</table>\n",
       "</div>"
      ],
      "text/plain": [
       "                                 Ratings\n",
       "c49d2670c7327779a2abc0f148468ac7       1\n",
       "42010e5165700c22389df1fad5faf234       1\n",
       "8c247a70e53fd1e76b021f0fca4b0d01       1\n",
       "cbada6c94eaa54330a955bc760b06034       1\n",
       "dc8a89ed63b90bb3c0506fd23cbd8286       1\n",
       "52353ad9977096c4504e54148b660523       1\n",
       "5452230512e9ecaf5a1f6ef94b34264f       1\n",
       "db97f6bc4862b2eec74ef32408c3b003       1\n",
       "e25deb27a8c09a6071d4ba92ce5a99ab       1\n",
       "f9295b1a57078dee740e34b90b3d680e       1"
      ]
     },
     "execution_count": 28,
     "metadata": {},
     "output_type": "execute_result"
    }
   ],
   "source": [
    "list4 = []\n",
    "user_preferred = 1410001\n",
    "\n",
    "for x in user_final.Track_ID.unique():\n",
    "    res = knn.predict(user_preferred, x)[3]\n",
    "    list4.append((x, res))\n",
    "Top_ten_item_suprise = pd.DataFrame(columns=['Ratings'])\n",
    "\n",
    "for x in sorted(list4, key=lambda x: (x[1]), reverse=True)[:10]:\n",
    "    Top_ten_item_suprise.loc[x[0]] = x[1]\n",
    "Top_ten_item_suprise"
   ]
  },
  {
   "cell_type": "markdown",
   "metadata": {
    "ExecuteTime": {
     "end_time": "2020-11-01T11:39:18.716614Z",
     "start_time": "2020-11-01T11:39:18.705643Z"
    }
   },
   "source": [
    "Let also get the predicted rating using the results of the user based model."
   ]
  },
  {
   "cell_type": "code",
   "execution_count": 29,
   "metadata": {
    "ExecuteTime": {
     "end_time": "2020-11-01T16:47:11.141985Z",
     "start_time": "2020-11-01T16:47:11.121734Z"
    }
   },
   "outputs": [
    {
     "data": {
      "text/html": [
       "<div>\n",
       "<style scoped>\n",
       "    .dataframe tbody tr th:only-of-type {\n",
       "        vertical-align: middle;\n",
       "    }\n",
       "\n",
       "    .dataframe tbody tr th {\n",
       "        vertical-align: top;\n",
       "    }\n",
       "\n",
       "    .dataframe thead th {\n",
       "        text-align: right;\n",
       "    }\n",
       "</style>\n",
       "<table border=\"1\" class=\"dataframe\">\n",
       "  <thead>\n",
       "    <tr style=\"text-align: right;\">\n",
       "      <th></th>\n",
       "      <th>Ratings</th>\n",
       "      <th>ItemB - Surprise</th>\n",
       "    </tr>\n",
       "  </thead>\n",
       "  <tbody>\n",
       "    <tr>\n",
       "      <th>713e34466e7adee5fac5d856f25b60d9</th>\n",
       "      <td>0.783440</td>\n",
       "      <td>0.875000</td>\n",
       "    </tr>\n",
       "    <tr>\n",
       "      <th>67a0c3497a087baa943748d42429d163</th>\n",
       "      <td>0.704274</td>\n",
       "      <td>0.795833</td>\n",
       "    </tr>\n",
       "    <tr>\n",
       "      <th>a15914b2e83be19a36b65df32bf92644</th>\n",
       "      <td>0.627885</td>\n",
       "      <td>0.659910</td>\n",
       "    </tr>\n",
       "    <tr>\n",
       "      <th>1d8a888a25d9fd9dd74ad8b5f3d808fe</th>\n",
       "      <td>0.627885</td>\n",
       "      <td>0.784375</td>\n",
       "    </tr>\n",
       "    <tr>\n",
       "      <th>d5aef58f7e6e7cf36b7af3d4bad557d4</th>\n",
       "      <td>0.537520</td>\n",
       "      <td>0.450000</td>\n",
       "    </tr>\n",
       "    <tr>\n",
       "      <th>47ef11452c85e9a37a13ba5af5a27bcc</th>\n",
       "      <td>0.517572</td>\n",
       "      <td>0.607643</td>\n",
       "    </tr>\n",
       "    <tr>\n",
       "      <th>2194695885ccab41b5afa766a9302652</th>\n",
       "      <td>0.508614</td>\n",
       "      <td>0.421094</td>\n",
       "    </tr>\n",
       "    <tr>\n",
       "      <th>682ca91627fafb2a140f3aa93631d821</th>\n",
       "      <td>0.467572</td>\n",
       "      <td>0.521399</td>\n",
       "    </tr>\n",
       "    <tr>\n",
       "      <th>9b7f248560ec731a4ffecc526e1f5528</th>\n",
       "      <td>0.466478</td>\n",
       "      <td>0.499925</td>\n",
       "    </tr>\n",
       "    <tr>\n",
       "      <th>f6f8ce0a02aac7888c3138ec00a5cdb5</th>\n",
       "      <td>0.465619</td>\n",
       "      <td>0.453241</td>\n",
       "    </tr>\n",
       "  </tbody>\n",
       "</table>\n",
       "</div>"
      ],
      "text/plain": [
       "                                   Ratings  ItemB - Surprise\n",
       "713e34466e7adee5fac5d856f25b60d9  0.783440          0.875000\n",
       "67a0c3497a087baa943748d42429d163  0.704274          0.795833\n",
       "a15914b2e83be19a36b65df32bf92644  0.627885          0.659910\n",
       "1d8a888a25d9fd9dd74ad8b5f3d808fe  0.627885          0.784375\n",
       "d5aef58f7e6e7cf36b7af3d4bad557d4  0.537520          0.450000\n",
       "47ef11452c85e9a37a13ba5af5a27bcc  0.517572          0.607643\n",
       "2194695885ccab41b5afa766a9302652  0.508614          0.421094\n",
       "682ca91627fafb2a140f3aa93631d821  0.467572          0.521399\n",
       "9b7f248560ec731a4ffecc526e1f5528  0.466478          0.499925\n",
       "f6f8ce0a02aac7888c3138ec00a5cdb5  0.465619          0.453241"
      ]
     },
     "execution_count": 29,
     "metadata": {},
     "output_type": "execute_result"
    }
   ],
   "source": [
    "Top_ten_items_funcsurp = Top_ten_user_function.copy()\n",
    "Top_ten_items_funcsurp['ItemB - Surprise'] = Top_ten_user_function.Ratings\n",
    "for x in Top_ten_user_function.index:\n",
    "    res = knn.predict(user_preferred, x)[3]\n",
    "    Top_ten_items_funcsurp['ItemB - Surprise'].loc[x] = res\n",
    "Top_ten_items_funcsurp"
   ]
  },
  {
   "cell_type": "markdown",
   "metadata": {},
   "source": [
    "Now that we have created our models, we can now discuss the results. We will be also checking the pattern mining of the choosing of the track_ids."
   ]
  },
  {
   "cell_type": "markdown",
   "metadata": {},
   "source": [
    "<div><span style=\"background-color: #488f31; padding-top: 100px; padding-right: 20px; padding-bottom: 50px; padding-left: 20px; color: white; font-size: 20px; font-weight: bold\">Frequent Item Set Mining</span></div>"
   ]
  },
  {
   "cell_type": "markdown",
   "metadata": {},
   "source": [
    "In this part, we will be showing the frequent item set that can be derived from the database of users and tracks. In pattern mining, it is important to check which parameters needs to be set as the transactions and the items. For this dataset, we will be using the User as the transaction and the track_ids as the items. This is done in order to check which unique track_ids often comes with other track_ids. In this way, the pattern mining might be also helpful in determining the next song"
   ]
  },
  {
   "cell_type": "markdown",
   "metadata": {},
   "source": [
    "Let us first create a main database for the FIM part, we should create a transaction list detailing all the items per transaction. The code are as follows:"
   ]
  },
  {
   "cell_type": "code",
   "execution_count": 30,
   "metadata": {
    "ExecuteTime": {
     "end_time": "2020-11-01T16:47:14.926559Z",
     "start_time": "2020-11-01T16:47:14.519818Z"
    }
   },
   "outputs": [
    {
     "data": {
      "text/plain": [
       "[{'5650d316220c726016a1bc9387c3b18a',\n",
       "  'af5383ec56b92bc6e2fef460747cb50d',\n",
       "  'b3f19f29399b6e71bb5cbafdf890d01a',\n",
       "  'c49d2670c7327779a2abc0f148468ac7'},\n",
       " {'06e99b67c0df1371643b5cb11eae1a13'},\n",
       " {'014e9f12626f78649aaa7226ab62fd1f',\n",
       "  '044fc8e3773032edf71fb1fcb75b8aad',\n",
       "  '0bda79b2dda59822c1f9599a76802644',\n",
       "  '0d6a91a19299200b224942263489bdcc',\n",
       "  '1c9907719cd71f815eb4f667da1ee67b',\n",
       "  '2e8d9093acab32fdb62374579e125c21',\n",
       "  '2f16898cc234470620da38e1fd912be6',\n",
       "  '40f6d454ce59d50fa7deffdc594aca3e',\n",
       "  '4ec07b731bb57fc74ddfaa15bc3f1a1c',\n",
       "  '80fc01725cbc96da7550daed6dd5ec34',\n",
       "  '8c1e4ed70911e677e05552323df0e73a',\n",
       "  'ba14300fb33edbcf93283f1230e917f4'}]"
      ]
     },
     "execution_count": 30,
     "metadata": {},
     "output_type": "execute_result"
    }
   ],
   "source": [
    "import fim\n",
    "user_fim = user_final.groupby('User')['Track_ID'].apply(set).values.tolist()\n",
    "user_fim[:3]"
   ]
  },
  {
   "cell_type": "markdown",
   "metadata": {},
   "source": [
    "For the FIM, we will be using the pyFIM library to be able to get the needed patterns."
   ]
  },
  {
   "cell_type": "markdown",
   "metadata": {},
   "source": [
    "## 10 Most Frequent Maximal Itemsets"
   ]
  },
  {
   "cell_type": "code",
   "execution_count": 31,
   "metadata": {
    "ExecuteTime": {
     "end_time": "2020-11-01T16:47:16.826137Z",
     "start_time": "2020-11-01T16:47:16.800800Z"
    }
   },
   "outputs": [
    {
     "data": {
      "text/plain": [
       "[(('3d02f9fcad37e6bb227682761039498c',), 44),\n",
       " (('d6b1124fdd64c4b1afa59f967397111d',), 43),\n",
       " (('9c5ddffd7e5f467e6500dcd4ed6a68da',), 42)]"
      ]
     },
     "execution_count": 31,
     "metadata": {},
     "output_type": "execute_result"
    }
   ],
   "source": [
    "Results1 = fim.apriori(user_fim, supp=1, zmin=1)\n",
    "itemset = sorted(Results1, key=lambda x: (-x[1], -len(x[0]), x[0]))\n",
    "itemset1 = [i for i in itemset if np.sum([set(i[0]).issubset(set(j[0]))\n",
    "                                          for j in itemset]) == 1]\n",
    "itemset1"
   ]
  },
  {
   "cell_type": "markdown",
   "metadata": {},
   "source": [
    "## 10 Association Rules with Highest Lift"
   ]
  },
  {
   "cell_type": "code",
   "execution_count": 39,
   "metadata": {
    "ExecuteTime": {
     "end_time": "2020-11-01T16:49:29.966701Z",
     "start_time": "2020-11-01T16:49:29.653763Z"
    }
   },
   "outputs": [
    {
     "data": {
      "text/plain": [
       "[(('d6b1124fdd64c4b1afa59f967397111d',),\n",
       "  'a199862c23e1f1a2255e2a16acf22614',\n",
       "  3,\n",
       "  0.06976744186046512,\n",
       "  92.6046511627907),\n",
       " (('d6b1124fdd64c4b1afa59f967397111d',),\n",
       "  'e84d723d2fc6206c865290c0e5ac4393',\n",
       "  3,\n",
       "  0.06976744186046512,\n",
       "  92.6046511627907),\n",
       " (('d6b1124fdd64c4b1afa59f967397111d',),\n",
       "  '929293d5e511d46eee3a1c979cffe32a',\n",
       "  3,\n",
       "  0.06976744186046512,\n",
       "  92.6046511627907)]"
      ]
     },
     "execution_count": 39,
     "metadata": {},
     "output_type": "execute_result"
    }
   ],
   "source": [
    "results2 = fim.arules(user_fim, supp=1, conf=5, zmin=1, report='acl')\n",
    "itemset2 = []\n",
    "for x in sorted(results2, key=lambda x: (-x[4])):\n",
    "    itemset2.append((tuple(sorted(x[1])), x[0], x[2], x[3], x[4]))\n",
    "itemset2[:3]"
   ]
  },
  {
   "cell_type": "markdown",
   "metadata": {},
   "source": [
    "## Possible Itemset with zmin=2"
   ]
  },
  {
   "cell_type": "code",
   "execution_count": 40,
   "metadata": {
    "ExecuteTime": {
     "end_time": "2020-11-01T16:49:34.655594Z",
     "start_time": "2020-11-01T16:49:34.626906Z"
    }
   },
   "outputs": [
    {
     "data": {
      "text/plain": [
       "[]"
      ]
     },
     "execution_count": 40,
     "metadata": {},
     "output_type": "execute_result"
    }
   ],
   "source": [
    "results4 = fim.apriori(user_fim, supp=1, zmin=2)\n",
    "itemset4 = sorted(results4, key=lambda x: (-x[1], -len(x[0]), x[0]))\n",
    "itemset4[:10]"
   ]
  },
  {
   "cell_type": "markdown",
   "metadata": {},
   "source": [
    "It seems that the dataset does not have recurring track_ids with other track_ids."
   ]
  },
  {
   "cell_type": "markdown",
   "metadata": {
    "colab_type": "text",
    "id": "4NZM-er_cxsH"
   },
   "source": [
    "Now that we have created our recommender models and the needed pattern mining,we can now discuss the results."
   ]
  },
  {
   "cell_type": "markdown",
   "metadata": {
    "colab_type": "text",
    "id": "mtxY33JXPBGg"
   },
   "source": [
    "<div><span style=\"background-color: #488f31; padding-top: 100px; padding-right: 20px; padding-bottom: 50px; padding-left: 20px; color: white; font-size: 20px; font-weight: bold\">RESULTS AND DISCUSSION</span></div>"
   ]
  },
  {
   "cell_type": "markdown",
   "metadata": {
    "colab_type": "text",
    "id": "pky1rze2hpL2"
   },
   "source": [
    "Based on the results seen on the recommender modeling and itemset mining, we can derive different explanations by comparing each results."
   ]
  },
  {
   "cell_type": "markdown",
   "metadata": {},
   "source": [
    "First off, Let us check if the results of the User Based Model coincides with the mean sentiment score of the chosen user. This is done by comparing the predicted sentiment scores of recommended tracks/songs to the mean sentiment score of the all tracks the user listened to which he/she has inputted specific hashtags also to show his sentiment to that specific track.\n",
    "\n",
    "For the **User: 1410001** his mean sentiment score is:"
   ]
  },
  {
   "cell_type": "code",
   "execution_count": 41,
   "metadata": {
    "ExecuteTime": {
     "end_time": "2020-11-01T16:49:36.802050Z",
     "start_time": "2020-11-01T16:49:36.786474Z"
    }
   },
   "outputs": [
    {
     "name": "stdout",
     "output_type": "stream",
     "text": [
      "Mean Sentiment Score of User:1410001 is  0.46538461538461573\n"
     ]
    }
   ],
   "source": [
    "print('Mean Sentiment Score of User:1410001 is ',\n",
    "      user_final.query('User == 1410001')['Score'].mean())"
   ]
  },
  {
   "cell_type": "markdown",
   "metadata": {},
   "source": [
    "### Results for User Based:"
   ]
  },
  {
   "cell_type": "code",
   "execution_count": 42,
   "metadata": {
    "ExecuteTime": {
     "end_time": "2020-11-01T16:49:38.457796Z",
     "start_time": "2020-11-01T16:49:38.083399Z"
    }
   },
   "outputs": [
    {
     "data": {
      "image/png": "[encoded data removed]",
      "text/plain": [
       "<Figure size 1440x432 with 2 Axes>"
      ]
     },
     "metadata": {
      "needs_background": "light"
     },
     "output_type": "display_data"
    }
   ],
   "source": [
    "compare_user = Top_ten_user_funcsurp.copy()\n",
    "compare_user.columns = ['Algorithm', 'Surprise']\n",
    "mean1 = user_final.query('User == 1410001')['Score'].mean()\n",
    "compare_user.loc['Mean Sentiment Score'] = [mean1, mean1]\n",
    "pal = ['#9dc6e0', '#9dc6e0', '#9dc6e0', '#9dc6e0', '#9dc6e0',\n",
    "       '#9dc6e0', '#9dc6e0', '#9dc6e0', '#9dc6e0', '#9dc6e0', '#ec838a']\n",
    "\n",
    "fig, axes = plt.subplots(nrows=1, ncols=2, figsize=(20, 6), sharey=True)\n",
    "\n",
    "axes[0].barh(compare_user.index, compare_user.Surprise, color=pal)\n",
    "axes[0].set_title(\"Using Surprise\", fontsize=25, fontweight='bold')\n",
    "axes[0].set_xlabel('Mean Sentiment Score', fontsize=18)\n",
    "axes[0].axvline(mean1, color='red', linestyle='--')\n",
    "axes[1].barh(compare_user.index, compare_user.Algorithm, color=pal)\n",
    "axes[1].set_title(\"Using Algorithm\", fontsize=25, fontweight='bold')\n",
    "axes[1].axvline(mean1, color='red', linestyle='--')\n",
    "axes[1].set_xlabel('Mean Sentiment Score', fontsize=18)\n",
    "plt.tight_layout()\n",
    "plt.show()"
   ]
  },
  {
   "cell_type": "markdown",
   "metadata": {},
   "source": [
    "From the graph above, we can see the comparison of the mean sentiment score to the results of the user based recommender system in both the surprise function and the algorithm model. We can now derive specific analysis on the results as follows:\n",
    "\n",
    "1. The Results of the User Based Model using the Algorithm way when compared to the mean sentiment score of the user is considered to give a different sentiment score. We can see that the mean sentiment score is only around 0.47 which means that we are expecting the the recommended songs should be in the range of this mean sentiment score. Checking the Graph, the results suggested songs that are way above the mean sentiment score. Making this model not ideal for this user and dataset.\n",
    "\n",
    "\n",
    "2. The Results of the User Based Model using the Surprise function when compared to the mean sentiment score of the user is much more ideal compared to the algorithm part. We can see that more recommended songs are in the range of the mean sentiment score. This makes the user based surprise model much more applicable and ideal between the two."
   ]
  },
  {
   "cell_type": "markdown",
   "metadata": {},
   "source": [
    "### Results for Item Based:"
   ]
  },
  {
   "cell_type": "code",
   "execution_count": 43,
   "metadata": {
    "ExecuteTime": {
     "end_time": "2020-11-01T16:49:40.141686Z",
     "start_time": "2020-11-01T16:49:39.770648Z"
    }
   },
   "outputs": [
    {
     "data": {
      "image/png": "[encoded data removed]",
      "text/plain": [
       "<Figure size 1440x432 with 2 Axes>"
      ]
     },
     "metadata": {
      "needs_background": "light"
     },
     "output_type": "display_data"
    }
   ],
   "source": [
    "compare_item = Top_ten_items_funcsurp.copy()\n",
    "compare_item.columns = ['Algorithm', 'Surprise']\n",
    "mean1 = user_final.query('User == 1410001')['Score'].mean()\n",
    "compare_item.loc['Mean Sentiment Score'] = [mean1, mean1]\n",
    "pal = ['#9dc6e0', '#9dc6e0', '#9dc6e0', '#9dc6e0', '#9dc6e0',\n",
    "       '#9dc6e0', '#9dc6e0', '#9dc6e0', '#9dc6e0', '#9dc6e0', '#ec838a']\n",
    "\n",
    "fig, axes = plt.subplots(nrows=1, ncols=2, figsize=(20, 6), sharey=True)\n",
    "\n",
    "axes[0].barh(compare_item.index, compare_item.Surprise, color=pal)\n",
    "axes[0].set_title(\"Using Surprise\", fontsize=25, fontweight='bold')\n",
    "axes[0].set_xlabel('Mean Sentiment Score', fontsize=18)\n",
    "axes[0].axvline(mean1, color='red', linestyle='--')\n",
    "axes[1].barh(compare_item.index, compare_item.Algorithm, color=pal)\n",
    "axes[1].set_title(\"Using Algorithm\", fontsize=25, fontweight='bold')\n",
    "axes[1].axvline(mean1, color='red', linestyle='--')\n",
    "axes[1].set_xlabel('Mean Sentiment Score', fontsize=18)\n",
    "plt.tight_layout()\n",
    "plt.show()"
   ]
  },
  {
   "cell_type": "markdown",
   "metadata": {},
   "source": [
    "From the graph above, we can see the comparison of the mean sentiment score to the results of the item based recommender system in both the surprise function and the algorithm model. We can now derive specific analysis on the results as follows:\n",
    "\n",
    "1. The Results of the Item Based Model using the Algorithm way when compared to the mean sentiment score of the user is considered to give a different sentiment score which is the same as the user based counterpart. We can see that the mean sentiment score is only around 0.47 which means that we are expecting the the recommended songs should be in the range of this mean sentiment score. Checking the Graph, the results suggested songs that are way above the mean sentiment score. Making this model not ideal for this user and dataset. It is also noteworthy to compare the results of the graph are almost the same with the surprise counterpart which is a very interesting to check.\n",
    "\n",
    "\n",
    "2. The Results of the Item Based Model using the Surprise function when compared to the mean sentiment score of the user is much more ideal compared to the algorithm part. We can see that more recommended songs are in the range of the mean sentiment score. This makes the user based surprise model much more applicable and ideal between the two. There is a bit similarity between the graph of the item based to user based counterpart which is an interesting find."
   ]
  },
  {
   "cell_type": "markdown",
   "metadata": {},
   "source": [
    "### Results for Frequent Itemset Mining:"
   ]
  },
  {
   "cell_type": "markdown",
   "metadata": {},
   "source": [
    "It is note worthy if it is possible that we can find a connection between the results of the user based and item based recommender system to the results of the frequent itemset mining. We can compare the results of the maximal frequent itemsets track_ids and the association rules results to the track_ids given by the recommender system model.\n",
    "\n",
    "Comparing the results of the recommender models and association rules:"
   ]
  },
  {
   "cell_type": "code",
   "execution_count": 44,
   "metadata": {
    "ExecuteTime": {
     "end_time": "2020-11-01T16:49:45.192488Z",
     "start_time": "2020-11-01T16:49:45.185849Z"
    }
   },
   "outputs": [
    {
     "name": "stdout",
     "output_type": "stream",
     "text": [
      "(('3d02f9fcad37e6bb227682761039498c',), '9b7f248560ec731a4ffecc526e1f5528', 5, 0.11363636363636363, 37.708333333333336)\n",
      "(('d6b1124fdd64c4b1afa59f967397111d',), '9b7f248560ec731a4ffecc526e1f5528', 4, 0.09302325581395349, 30.868217054263567)\n",
      "(('d6b1124fdd64c4b1afa59f967397111d',), '682ca91627fafb2a140f3aa93631d821', 3, 0.06976744186046512, 25.25581395348837)\n"
     ]
    }
   ],
   "source": [
    "for x in itemset2:\n",
    "    if x[1] in Top_ten_items_funcsurp.index:\n",
    "        print(x)"
   ]
  },
  {
   "cell_type": "markdown",
   "metadata": {},
   "source": [
    "Discussion of the results are as follows:\n",
    "\n",
    "1. Based on the cell above, it seems that there is a connection between the top recommended songs and the results of the association rules. There are 3 Pairs of associations rules that is also in the recommended songs. Using this results, it seems that their is also possibility that when the recommended songs having an association rule is recommended, its more likely than their pair would be recommended also. Considering that they have lifts that is around 90.\n",
    "\n",
    "\n",
    "2. It is noteworthy also that there no recommended songs that is considered a maximal frequent itemset."
   ]
  },
  {
   "cell_type": "markdown",
   "metadata": {
    "ExecuteTime": {
     "end_time": "2020-11-01T13:39:46.292457Z",
     "start_time": "2020-11-01T13:39:46.280480Z"
    }
   },
   "source": [
    "With this Results we can already conclude some items regarding this research."
   ]
  },
  {
   "cell_type": "markdown",
   "metadata": {
    "colab_type": "text",
    "id": "hOPNlyfLNJIe"
   },
   "source": [
    "<div><span style=\"background-color: #488f31; padding-top: 100px; padding-right: 20px; padding-bottom: 50px; padding-left: 20px; color: white; font-size: 20px; font-weight: bold\">CONCLUSION AND RECOMMENDATION</span></div>"
   ]
  },
  {
   "cell_type": "markdown",
   "metadata": {
    "colab_type": "text",
    "id": "pdtAhWvHNQnC"
   },
   "source": [
    "<p style=\"text-align: justify\"> A Trainset from the nowplaying-rs dataset was parsed through by undergoing data analysis, data preprocessing and further filtering. To create the best next song recommender system using the sentiment score of the dataset, collaborative filtering was chosen. There are various models that can be chosen but for this research, the user-based, and item-based modeling will be used in partner with its surprise and algorithm counterparts. The results show the following conclusions:\n",
    "    \n",
    "    \n",
    "1.\tThe User-Based Modeling using the Surprise function is more ideal compared to the algorithm function for this dataset since its recommended songs are the closest to the mean sentiment score of the chosen user.\n",
    "\n",
    "    \n",
    "2.\tThe Item-Based Modeling using the Surprise function is more ideal compared to the algorithm function for this dataset since its recommended songs are the closest to the mean sentiment score of the chosen user.\n",
    "\n",
    "    \n",
    "3.\tChoosing between the Item Based and User Based will be up to the evaluator since both ideal models have their strengths and weaknesses. For the specific user and this research, it seems that the best model out of the four models, is the User-Based Model using the Surprise Function.\n",
    "\n",
    "    \n",
    "4.\tThere is a possibility that the recommended songs for the User-Based Collaborative Filtering will have association rules that can be also used for further recommending.\n",
    "\n",
    "    \n",
    "5.\tUsing the Sentiment Score as the explicit rating for the track_id, the research was able to create a next song recommender system. The recommender system was able to use the explicit values of the sentiments score and predict appropriate songs that matches the mean sentiment score of the user. Using this approach, the sentiment feeling of the user will be seamless throughout.\n",
    "\n",
    "    \n",
    "    \n",
    "Additional Recommendation are given also to further improve the research. Since the item-based modeling is minimized due to long runtime. It would prove to be much more important to create a much-optimized code for implementing the item-based Model. Parsing all the track_id in the item based would surely improve the research. It is also recommended to check all the nowplaying-RS dataset, not only the train set, to test the model. Since there is also a test set, it is great to check the results of the test set and compare it to the results of this research. It is recommended also to use the Dask Library to parse the whole nowplaying-RS Dataset to get a whole complete picture of how the sentiment score would prove to be of use in recommending the next song.\n",
    " </p>"
   ]
  },
  {
   "cell_type": "markdown",
   "metadata": {
    "ExecuteTime": {
     "end_time": "2020-06-21T16:02:16.029525Z",
     "start_time": "2020-06-21T16:02:16.022506Z"
    },
    "colab_type": "text",
    "id": "XN0-Dw3zRMQN"
   },
   "source": [
    "<div><span style=\"background-color: #488f31; padding-top: 100px; padding-right: 20px; padding-bottom: 50px; padding-left: 20px; color: white ; font-size: 20px; font-weight: bold\">REFERENCES AND ACKNOWLEDGEMENTS</span></div>"
   ]
  },
  {
   "cell_type": "markdown",
   "metadata": {
    "colab_type": "text",
    "id": "hV98fBXgGd6X"
   },
   "source": [
    "[1] https://www.ibisworld.com/industry-statistics/market-size/music-publishing-united-states/\n",
    "\n",
    "[2] http://mac.citi.sinica.edu.tw/~yang/pub/poddar18smc.pdf\n",
    "\n",
    "[3] https://www.kaggle.com/chelseapower/nowplayingrs"
   ]
  }
 ],
 "metadata": {
  "colab": {
   "collapsed_sections": [],
   "name": "DMW Miniproject 2.ipynb",
   "provenance": []
  },
  "kernelspec": {
   "display_name": "Python 3",
   "language": "python",
   "name": "python3"
  },
  "language_info": {
   "codemirror_mode": {
    "name": "ipython",
    "version": 3
   },
   "file_extension": ".py",
   "mimetype": "text/x-python",
   "name": "python",
   "nbconvert_exporter": "python",
   "pygments_lexer": "ipython3",
   "version": "3.6.10"
  }
 },
 "nbformat": 4,
 "nbformat_minor": 1
}
